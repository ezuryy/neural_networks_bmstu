{
 "cells": [
  {
   "cell_type": "markdown",
   "id": "276b4c5d-c74e-4527-b042-0fc953faaa33",
   "metadata": {},
   "source": [
    "# Лабораторная работа №8. Исследование рекуррентной нейронной сети Коско (ВАМ) на примере задачи распознавания образов"
   ]
  },
  {
   "cell_type": "code",
   "execution_count": 1,
   "id": "815263c5-f92a-4993-95a5-479bece1e9ee",
   "metadata": {},
   "outputs": [],
   "source": [
    "import numpy as np\n",
    "import matplotlib.pyplot as plt\n",
    "import matplotlib.cm as cm\n",
    "import matplotlib.image as mpimg"
   ]
  },
  {
   "cell_type": "markdown",
   "id": "a31eb7fa-5741-4a05-a354-b456a4557b2c",
   "metadata": {},
   "source": [
    "## Необходимые функции"
   ]
  },
  {
   "cell_type": "code",
   "execution_count": 2,
   "id": "c9942b82-db07-44e7-930f-a64124fafb09",
   "metadata": {},
   "outputs": [],
   "source": [
    "def get_net_forward(signal, weight):\n",
    "    return np.dot(signal, weight)"
   ]
  },
  {
   "cell_type": "code",
   "execution_count": 3,
   "id": "20967240-cf5d-4ee3-ae7e-7ffc80486830",
   "metadata": {},
   "outputs": [],
   "source": [
    "def get_net_backward(response, weight):\n",
    "    return np.dot(response, weight.transpose())"
   ]
  },
  {
   "cell_type": "code",
   "execution_count": 4,
   "id": "27dfc3db-64ae-4ecc-a913-bbaafa88aab7",
   "metadata": {},
   "outputs": [],
   "source": [
    "def activation_function(net):\n",
    "    result = [[-1 if element <= 0 else 1 for element in row] for row in net]\n",
    "    return np.array(result)"
   ]
  },
  {
   "cell_type": "code",
   "execution_count": 5,
   "id": "8f9f155f-ee55-4735-bb05-f0b7f2cee8a0",
   "metadata": {},
   "outputs": [],
   "source": [
    "def show_signal(signal):\n",
    "    signal_binary = np.array([[0 if element == -1 else 1 for element in row] for row in signal])\n",
    "    plt.imsave('filename_1.png', np.array(signal_binary[0]).reshape(6,4), cmap=cm.gray)\n",
    "    plt.imsave('filename_2.png', np.array(signal_binary[1]).reshape(6,4), cmap=cm.gray)\n",
    "    plt.imsave('filename_3.png', np.array(signal_binary[2]).reshape(6,4), cmap=cm.gray)\n",
    "    img_1 = mpimg.imread('filename_1.png')\n",
    "    img_2 = mpimg.imread('filename_2.png')\n",
    "    img_3 = mpimg.imread('filename_3.png')\n",
    "    plt.subplot(131)\n",
    "    plt.imshow(img_1)\n",
    "    plt.subplot(132)\n",
    "    plt.imshow(img_2)\n",
    "    plt.subplot(133)\n",
    "    plt.imshow(img_3)\n",
    "    plt.show()"
   ]
  },
  {
   "cell_type": "code",
   "execution_count": 6,
   "id": "cbca4775-dddf-4ee2-88b4-faaff97d28d7",
   "metadata": {},
   "outputs": [],
   "source": [
    "def activation_function(net, prev_f):\n",
    "    for row in range(len(net)):\n",
    "        for idx in range(len(net[row])):\n",
    "            if net[row, idx] == 0:\n",
    "                net[row, idx] = prev_f[row, idx]\n",
    "            elif net[row, idx] < 0:\n",
    "                net[row, idx] = -1\n",
    "            else:\n",
    "                net[row, idx] = 1\n",
    "    return net"
   ]
  },
  {
   "cell_type": "code",
   "execution_count": 7,
   "id": "db226e8f-4d47-4043-97c4-8fd55ae519a3",
   "metadata": {},
   "outputs": [],
   "source": [
    "def get_response(signal, weight, expected_signal):\n",
    "    net = get_net_forward(signal, weight)\n",
    "    response_got = activation_function(net, expected_signal)\n",
    "    return response_got"
   ]
  },
  {
   "cell_type": "code",
   "execution_count": 8,
   "id": "bbe96daa-b564-4382-ab26-b84492bf5931",
   "metadata": {},
   "outputs": [],
   "source": [
    "def get_signal(response, weight, expected_response):\n",
    "    net = get_net_backward(response, weight)\n",
    "    signal_got = activation_function(net, expected_response)\n",
    "    return signal_got"
   ]
  },
  {
   "cell_type": "code",
   "execution_count": 9,
   "id": "303213cc-9171-4e58-a4c0-eb1d3999b364",
   "metadata": {},
   "outputs": [],
   "source": [
    "response = np.array([[-1, -1, 1], [-1, 1, -1], [-1, 1, 1]])"
   ]
  },
  {
   "cell_type": "code",
   "execution_count": 10,
   "id": "69a3eb50-cd9c-4cd3-bb42-2dc2b0eedd2a",
   "metadata": {},
   "outputs": [],
   "source": [
    "signal = np.array([\n",
    "    [-1, -1, 1, -1, -1, 1, 1, -1, 1, -1, 1, -1, -1, -1, 1, -1, -1, -1, 1, -1, -1, -1, 1, -1], \n",
    "    [-1, 1, 1, 1, -1, -1, -1, 1, -1, -1, 1, 1, -1, -1, -1, 1, -1, -1, -1, 1, 1, 1, 1, 1], \n",
    "    [1, 1, 1, 1, 1, -1, -1, -1, 1, 1, 1, 1, -1, -1, -1, 1, -1, -1, -1, 1, 1, 1, 1, 1]]\n",
    ")"
   ]
  },
  {
   "cell_type": "code",
   "execution_count": 11,
   "id": "4d39d311-e0fd-4eed-a668-a7418897d530",
   "metadata": {},
   "outputs": [
    {
     "data": {
      "image/png": "[encoded data removed]",
      "text/plain": [
       "<Figure size 432x288 with 3 Axes>"
      ]
     },
     "metadata": {
      "needs_background": "light"
     },
     "output_type": "display_data"
    }
   ],
   "source": [
    "show_signal(signal)"
   ]
  },
  {
   "cell_type": "code",
   "execution_count": 12,
   "id": "071e3318-cbb9-4756-bbae-119ec2b6f2ed",
   "metadata": {},
   "outputs": [],
   "source": [
    "weight = np.dot(signal.transpose(), response)"
   ]
  },
  {
   "cell_type": "code",
   "execution_count": 13,
   "id": "9652b3ba-4405-4d6d-bc95-1b43c8cefe73",
   "metadata": {},
   "outputs": [
    {
     "data": {
      "text/plain": [
       "(24, 3)"
      ]
     },
     "execution_count": 13,
     "metadata": {},
     "output_type": "execute_result"
    }
   ],
   "source": [
    "weight.shape"
   ]
  },
  {
   "cell_type": "markdown",
   "id": "be44be7e-1a48-4ea8-b072-02b87d6a2a02",
   "metadata": {},
   "source": [
    "## Рабочий режим. Расчет выходов нейронов второго слоя"
   ]
  },
  {
   "cell_type": "code",
   "execution_count": 14,
   "id": "805caa84-e5fe-4b81-b6d6-4fa00872d357",
   "metadata": {},
   "outputs": [
    {
     "data": {
      "text/plain": [
       "True"
      ]
     },
     "execution_count": 14,
     "metadata": {},
     "output_type": "execute_result"
    }
   ],
   "source": [
    "response_got = get_response(signal, weight, signal)\n",
    "(response_got == response).all()"
   ]
  },
  {
   "cell_type": "code",
   "execution_count": 15,
   "id": "468983c6-9b64-449a-8237-ea0d5918aaf6",
   "metadata": {},
   "outputs": [
    {
     "data": {
      "text/plain": [
       "array([[-1, -1,  1],\n",
       "       [-1,  1, -1],\n",
       "       [-1,  1,  1]])"
      ]
     },
     "execution_count": 15,
     "metadata": {},
     "output_type": "execute_result"
    }
   ],
   "source": [
    "response_got"
   ]
  },
  {
   "cell_type": "markdown",
   "id": "714a901c-72d1-4fcb-8f39-8bcd77611cae",
   "metadata": {},
   "source": [
    "## Рабочий режим. Расчет выходов нейронов первого слоя"
   ]
  },
  {
   "cell_type": "code",
   "execution_count": 16,
   "id": "bad6e393-eafe-45a9-ba12-91c8a399ff6b",
   "metadata": {},
   "outputs": [
    {
     "data": {
      "text/plain": [
       "True"
      ]
     },
     "execution_count": 16,
     "metadata": {},
     "output_type": "execute_result"
    }
   ],
   "source": [
    "signal_got = get_signal(response_got, weight, response)\n",
    "(signal_got == signal).all()"
   ]
  },
  {
   "cell_type": "code",
   "execution_count": 17,
   "id": "33065baf-604f-4639-9ec5-65a571613501",
   "metadata": {},
   "outputs": [
    {
     "data": {
      "image/png": "[encoded data removed]",
      "text/plain": [
       "<Figure size 432x288 with 3 Axes>"
      ]
     },
     "metadata": {
      "needs_background": "light"
     },
     "output_type": "display_data"
    }
   ],
   "source": [
    "show_signal(signal_got)"
   ]
  },
  {
   "cell_type": "markdown",
   "id": "4d63bda0-8a68-4ed2-8643-4b765d51dcf9",
   "metadata": {},
   "source": [
    "## Рабочий режим. Расчет выходов нейронов второго слоя с искажениями во входном векторе"
   ]
  },
  {
   "cell_type": "markdown",
   "id": "d0c5f801-beeb-4f2c-8828-a9e4273ced1c",
   "metadata": {},
   "source": [
    "Случайно выбираем 3 пикселя в исходном сигнале (10% от 24 пикселей), изменяем их. После цикла в нейронной сети Коско сигнал правильно восстановлен."
   ]
  },
  {
   "cell_type": "code",
   "execution_count": 18,
   "id": "50b05cd7-8068-4e63-a1e0-0449bf91aa94",
   "metadata": {},
   "outputs": [],
   "source": [
    "noisy_signal = signal.copy()\n",
    "for i in range(noisy_signal.shape[0]):\n",
    "    np.random.seed = 24\n",
    "    idx_to_change = np.random.randint(0, noisy_signal.shape[1], 3)\n",
    "    for idx in idx_to_change:\n",
    "        noisy_signal[i, idx] *= (-1)"
   ]
  },
  {
   "cell_type": "code",
   "execution_count": 19,
   "id": "de5da407-7cb3-4896-b018-bc5f63c876e7",
   "metadata": {},
   "outputs": [
    {
     "data": {
      "text/plain": [
       "array([[-1,  1,  1,  1, -1,  1,  1, -1, -1, -1,  1, -1, -1, -1,  1, -1,\n",
       "        -1, -1,  1, -1, -1, -1,  1, -1],\n",
       "       [-1,  1,  1,  1, -1, -1, -1,  1, -1, -1, -1,  1,  1, -1,  1,  1,\n",
       "        -1, -1, -1,  1,  1,  1,  1,  1],\n",
       "       [ 1,  1,  1,  1,  1, -1,  1, -1,  1,  1,  1,  1, -1, -1, -1,  1,\n",
       "         1, -1, -1,  1, -1,  1,  1,  1]])"
      ]
     },
     "execution_count": 19,
     "metadata": {},
     "output_type": "execute_result"
    }
   ],
   "source": [
    "noisy_signal"
   ]
  },
  {
   "cell_type": "code",
   "execution_count": 20,
   "id": "ac308919-74af-4ff7-ae60-731b9ef69408",
   "metadata": {
    "tags": []
   },
   "outputs": [
    {
     "data": {
      "image/png": "[encoded data removed]",
      "text/plain": [
       "<Figure size 432x288 with 3 Axes>"
      ]
     },
     "metadata": {
      "needs_background": "light"
     },
     "output_type": "display_data"
    }
   ],
   "source": [
    "show_signal(noisy_signal)"
   ]
  },
  {
   "cell_type": "code",
   "execution_count": 21,
   "id": "34ce1018-5360-4658-9441-ac132d575a6d",
   "metadata": {},
   "outputs": [
    {
     "data": {
      "image/png": "[encoded data removed]",
      "text/plain": [
       "<Figure size 432x288 with 3 Axes>"
      ]
     },
     "metadata": {
      "needs_background": "light"
     },
     "output_type": "display_data"
    }
   ],
   "source": [
    "response_got = get_response(noisy_signal, weight, signal)\n",
    "signal_got = get_signal(response_got, weight, response)\n",
    "show_signal(signal_got)"
   ]
  },
  {
   "cell_type": "code",
   "execution_count": 22,
   "id": "7833584c-7318-44b0-890d-0ac1e12768b0",
   "metadata": {},
   "outputs": [
    {
     "data": {
      "text/plain": [
       "True"
      ]
     },
     "execution_count": 22,
     "metadata": {},
     "output_type": "execute_result"
    }
   ],
   "source": [
    "(signal_got == signal).all()"
   ]
  },
  {
   "cell_type": "code",
   "execution_count": null,
   "id": "b9512196-ffda-4d7b-8afc-5f59f31b9e5f",
   "metadata": {},
   "outputs": [],
   "source": []
  }
 ],
 "metadata": {
  "kernelspec": {
   "display_name": "Python 3",
   "language": "python",
   "name": "python3"
  },
  "language_info": {
   "codemirror_mode": {
    "name": "ipython",
    "version": 3
   },
   "file_extension": ".py",
   "mimetype": "text/x-python",
   "name": "python",
   "nbconvert_exporter": "python",
   "pygments_lexer": "ipython3",
   "version": "3.8.8"
  }
 },
 "nbformat": 4,
 "nbformat_minor": 5
}
