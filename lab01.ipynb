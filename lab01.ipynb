{
 "cells": [
  {
   "cell_type": "code",
   "execution_count": 1,
   "id": "15990e14-019f-44e2-839c-2bf06c312e3d",
   "metadata": {},
   "outputs": [],
   "source": [
    "import numpy as np\n",
    "import matplotlib.pyplot as plt\n",
    "from itertools import combinations"
   ]
  },
  {
   "cell_type": "code",
   "execution_count": 2,
   "id": "ed289525-a75d-4e6b-bf04-f382d2b1e8e3",
   "metadata": {},
   "outputs": [],
   "source": [
    "def simulated_boolean_function(x1, x2, x3, x4):\n",
    "    return int((not (x1 or x2)) or x3 or x4)"
   ]
  },
  {
   "cell_type": "code",
   "execution_count": 3,
   "id": "0ae9e308-54a2-45fc-b4a0-9b0af0f65c50",
   "metadata": {},
   "outputs": [],
   "source": [
    "X1 = [0, 0, 0, 0, 0, 0, 0, 0, 1, 1, 1, 1, 1, 1, 1, 1]\n",
    "X2 = [0, 0, 0, 0, 1, 1, 1, 1, 0, 0, 0, 0, 1, 1, 1, 1]\n",
    "X3 = [0, 0, 1, 1, 0, 0, 1, 1, 0, 0, 1, 1, 0, 0, 1, 1]\n",
    "X4 = [0, 1, 0, 1, 0, 1, 0, 1, 0, 1, 0, 1, 0, 1, 0, 1]"
   ]
  },
  {
   "cell_type": "code",
   "execution_count": 4,
   "id": "f3c1e66b-6017-448a-bc6c-51b8762d98c7",
   "metadata": {},
   "outputs": [],
   "source": [
    "Y = np.array([simulated_boolean_function(X1[i], X2[i], X3[i], X4[i]) for i in range(16)])"
   ]
  },
  {
   "cell_type": "code",
   "execution_count": 5,
   "id": "3bbd926e-6dd4-4fd2-a6b7-f04a17107bbc",
   "metadata": {},
   "outputs": [
    {
     "data": {
      "text/plain": [
       "array([1, 1, 1, 1, 0, 1, 1, 1, 0, 1, 1, 1, 0, 1, 1, 1])"
      ]
     },
     "execution_count": 5,
     "metadata": {},
     "output_type": "execute_result"
    }
   ],
   "source": [
    "Y"
   ]
  },
  {
   "cell_type": "code",
   "execution_count": 6,
   "id": "8010eb9c-49ee-4aa2-9c50-8eb140905bfd",
   "metadata": {},
   "outputs": [],
   "source": [
    "def loss(y_true, y_predicted):\n",
    "    return y_true - y_predicted"
   ]
  },
  {
   "cell_type": "code",
   "execution_count": 7,
   "id": "d5261521-3975-4440-aca2-3adfd345d0b2",
   "metadata": {},
   "outputs": [],
   "source": [
    "X_test = [[X1[i], X2[i], X3[i], X4[i]] for i in range(16)]"
   ]
  },
  {
   "cell_type": "code",
   "execution_count": 8,
   "id": "7506e053-f1bd-4061-87bc-f621ba0f7ad9",
   "metadata": {},
   "outputs": [],
   "source": [
    "def predict_for_binary_step(X_test):\n",
    "    y_predicted = []\n",
    "    y_predicted = [net.forward(x) for x in X_test]\n",
    "    return np.array(y_predicted)"
   ]
  },
  {
   "cell_type": "code",
   "execution_count": 9,
   "id": "ffb90454-edc2-4d0f-85fd-4f9a5a7c1535",
   "metadata": {},
   "outputs": [],
   "source": [
    "def predict_for_softsign(X_test, threshold=0.5):\n",
    "    y_predicted = []\n",
    "    y_predicted = [int(net.forward(x) > threshold) for x in X_test]\n",
    "    return np.array(y_predicted)"
   ]
  },
  {
   "cell_type": "markdown",
   "id": "c0a4f4fd-0d89-4dc9-9136-04d093fcc03a",
   "metadata": {},
   "source": [
    "# Часть №1: binary step"
   ]
  },
  {
   "cell_type": "code",
   "execution_count": 10,
   "id": "05416fc8-63f3-4359-b03b-c94ecef2953a",
   "metadata": {},
   "outputs": [],
   "source": [
    "class BinaryStepNet:\n",
    "    \n",
    "    def __init__(self, seed=1):\n",
    "        np.random.seed(seed)\n",
    "        self.W = np.zeros(shape=4)\n",
    "        self.b = 0\n",
    "#         self.W = np.random.normal(scale=0.1, size=4)\n",
    "#         self.b = np.random.randint(1)\n",
    "    \n",
    "    def forward(self, x):\n",
    "        self.x = x\n",
    "        self.net = np.dot(self.W, x) + self.b\n",
    "        self.binary_step = int(self.net >= 0)\n",
    "        return self.binary_step\n",
    "    \n",
    "    def backward(self, delta, lr=0.01):\n",
    "        self.dW = np.dot(lr * delta, self.x)\n",
    "        self.db = lr * delta\n",
    "        self.W = self.W + self.dW\n",
    "        self.b = self.b + self.db"
   ]
  },
  {
   "cell_type": "code",
   "execution_count": 11,
   "id": "f7499df8-9449-420d-bed0-e244c9ccb946",
   "metadata": {},
   "outputs": [
    {
     "name": "stdout",
     "output_type": "stream",
     "text": [
      "\n",
      "\tEpoch  1\n",
      "W =  [0.  0.  0.  0.9]\n",
      "Y =  [1, 1, 1, 1, 1, 0, 1, 1, 1, 0, 1, 1, 1, 0, 1, 1]\n",
      "E =  6.0\n",
      "\n",
      "\tEpoch  2\n",
      "W =  [0.  0.  0.6 1.2]\n",
      "Y =  [1, 1, 1, 1, 1, 1, 0, 1, 1, 1, 0, 1, 1, 0, 1, 1]\n",
      "E =  6.0\n",
      "\n",
      "\tEpoch  3\n",
      "W =  [ 0.  -0.3  0.6  1.2]\n",
      "Y =  [1, 1, 1, 1, 1, 1, 1, 1, 0, 1, 1, 1, 0, 1, 1, 1]\n",
      "E =  1.0\n",
      "\n",
      "\tEpoch  4\n",
      "W =  [0.  0.  0.9 1.2]\n",
      "Y =  [0, 1, 1, 1, 0, 1, 1, 1, 1, 1, 1, 1, 0, 1, 0, 1]\n",
      "E =  3.0\n",
      "\n",
      "\tEpoch  5\n",
      "W =  [ 0.  -0.3  0.9  1.2]\n",
      "Y =  [1, 1, 1, 1, 1, 1, 1, 1, 0, 1, 1, 1, 0, 1, 1, 1]\n",
      "E =  1.0\n",
      "\n",
      "\tEpoch  6\n",
      "W =  [0.  0.  1.2 1.2]\n",
      "Y =  [0, 1, 1, 1, 0, 1, 1, 1, 1, 1, 1, 1, 0, 1, 0, 1]\n",
      "E =  3.0\n",
      "\n",
      "\tEpoch  7\n",
      "W =  [ 0.  -0.3  1.2  1.2]\n",
      "Y =  [1, 1, 1, 1, 1, 1, 1, 1, 0, 1, 1, 1, 0, 1, 1, 1]\n",
      "E =  1.0\n",
      "\n",
      "\tEpoch  8\n",
      "W =  [-0.3 -0.3  1.2  1.2]\n",
      "Y =  [0, 1, 1, 1, 0, 1, 1, 1, 1, 1, 1, 1, 0, 1, 1, 1]\n",
      "E =  2.0\n",
      "\n",
      "\tEpoch  9\n",
      "W =  [-0.3 -0.3  1.2  1.2]\n",
      "Y =  [0, 1, 1, 1, 0, 1, 1, 1, 0, 1, 1, 1, 0, 1, 1, 1]\n",
      "E =  1.0\n",
      "\n",
      "\tEpoch  10\n",
      "W =  [-0.3 -0.3  1.2  1.2]\n",
      "Y =  [1, 1, 1, 1, 0, 1, 1, 1, 0, 1, 1, 1, 0, 1, 1, 1]\n",
      "E =  0.0\n"
     ]
    },
    {
     "data": {
      "text/plain": [
       "[<matplotlib.lines.Line2D at 0x7f8ac073f730>]"
      ]
     },
     "execution_count": 11,
     "metadata": {},
     "output_type": "execute_result"
    },
    {
     "data": {
      "image/png": "[encoded data removed]",
      "text/plain": [
       "<Figure size 432x288 with 1 Axes>"
      ]
     },
     "metadata": {
      "needs_background": "light"
     },
     "output_type": "display_data"
    }
   ],
   "source": [
    "net = BinaryStepNet()\n",
    "EPOCH_NUMBER = 10\n",
    "\n",
    "lr = 0.3\n",
    "L_iter = []\n",
    "size_of_train = len(X1)\n",
    "\n",
    "for iter in range(EPOCH_NUMBER):\n",
    "    error = 0.\n",
    "    print(\"\\n\\tEpoch \", iter + 1)\n",
    "    Y_predicted = []\n",
    "    for i in range(size_of_train):\n",
    "        x = [X1[i], X2[i], X3[i], X4[i]]\n",
    "        y_true = Y[i]\n",
    "        y_predicted = net.forward(x)\n",
    "        delta = loss(y_true, y_predicted)\n",
    "        error += abs(delta)\n",
    "        net.backward(delta, lr)\n",
    "        Y_predicted.append(y_predicted)\n",
    "    L_iter.append(error)\n",
    "    print(\"W = \", net.W)\n",
    "    print(\"Y = \", Y_predicted)\n",
    "    print(\"E = \", error)\n",
    "    if (error == 0):\n",
    "        break\n",
    "plt.plot(L_iter)"
   ]
  },
  {
   "cell_type": "markdown",
   "id": "a19394b7-8f42-4ca6-8e34-da0f964ec8f1",
   "metadata": {},
   "source": [
    "# Чать №2"
   ]
  },
  {
   "cell_type": "code",
   "execution_count": 13,
   "id": "a050a1a3-effc-4d1e-84b9-5e6ff528ae04",
   "metadata": {},
   "outputs": [],
   "source": [
    "class SoftsignNet:\n",
    "    \n",
    "    def __init__(self, seed=1):\n",
    "        np.random.seed(seed)\n",
    "        self.W = np.zeros(shape=4)\n",
    "        self.b = 0\n",
    "#         self.W = np.random.normal(scale=0.1, size=4)\n",
    "#         self.b = np.random.randint(1)\n",
    "    \n",
    "    def forward(self, x, threshold=0.5):\n",
    "        self.x = x\n",
    "        net = np.dot(self.W, x) + self.b\n",
    "        self.softsign = 0.5 * (net / (1 + abs(net)) + 1)\n",
    "        return int(self.softsign > threshold)\n",
    "    \n",
    "    def backward(self, delta, lr=0.01):\n",
    "        self.dz = 0.5 / (1 + np.abs(self.softsign) ** 2)\n",
    "        self.dW = np.dot(lr * delta * self.dz, self.x)\n",
    "        self.db = lr * delta * self.dz\n",
    "        self.W = self.W + self.dW\n",
    "        self.b = self.b + self.db"
   ]
  },
  {
   "cell_type": "code",
   "execution_count": 14,
   "id": "79c7bb1a-6847-442a-b614-ed181447db4b",
   "metadata": {},
   "outputs": [
    {
     "name": "stdout",
     "output_type": "stream",
     "text": [
      "\n",
      "\tEpoch  1\n",
      "W =  [0.01902876 0.0190569  0.12427648 0.24721059]\n",
      "Y =  [0, 1, 1, 1, 1, 0, 1, 1, 1, 1, 0, 1, 1, 0, 1, 1]\n",
      "E =  7.0\n",
      "\n",
      "\tEpoch  2\n",
      "W =  [ 0.02406013 -0.09397401  0.24679862  0.24721059]\n",
      "Y =  [1, 1, 1, 1, 1, 1, 1, 1, 1, 1, 0, 1, 0, 1, 1, 1]\n",
      "E =  3.0\n",
      "\n",
      "\tEpoch  3\n",
      "W =  [0.02775416 0.02677693 0.24679862 0.36796152]\n",
      "Y =  [1, 1, 1, 1, 0, 1, 1, 1, 1, 1, 1, 1, 0, 0, 1, 1]\n",
      "E =  2.0\n",
      "\n",
      "\tEpoch  4\n",
      "W =  [ 0.02775416 -0.09000761  0.24679862  0.36796152]\n",
      "Y =  [1, 1, 1, 1, 1, 1, 1, 1, 0, 1, 1, 1, 0, 1, 1, 1]\n",
      "E =  1.0\n",
      "\n",
      "\tEpoch  5\n",
      "W =  [-0.08871984 -0.09000761  0.24679862  0.36796152]\n",
      "Y =  [0, 1, 1, 1, 0, 1, 1, 1, 1, 1, 1, 1, 0, 1, 1, 1]\n",
      "E =  2.0\n",
      "\n",
      "\tEpoch  6\n",
      "W =  [-0.08871984 -0.09000761  0.24679862  0.36796152]\n",
      "Y =  [0, 1, 1, 1, 0, 1, 1, 1, 0, 1, 1, 1, 0, 1, 1, 1]\n",
      "E =  1.0\n",
      "\n",
      "\tEpoch  7\n",
      "W =  [-0.08871984 -0.09000761  0.24679862  0.36796152]\n",
      "Y =  [1, 1, 1, 1, 0, 1, 1, 1, 0, 1, 1, 1, 0, 1, 1, 1]\n",
      "E =  0.0\n"
     ]
    },
    {
     "data": {
      "text/plain": [
       "[<matplotlib.lines.Line2D at 0x7f8ad01cf040>]"
      ]
     },
     "execution_count": 14,
     "metadata": {},
     "output_type": "execute_result"
    },
    {
     "data": {
      "image/png": "[encoded data removed]",
      "text/plain": [
       "<Figure size 432x288 with 1 Axes>"
      ]
     },
     "metadata": {
      "needs_background": "light"
     },
     "output_type": "display_data"
    }
   ],
   "source": [
    "net = SoftsignNet()\n",
    "EPOCH_NUMBER = 10\n",
    "\n",
    "lr = 0.3\n",
    "L_iter = []\n",
    "size_of_train = len(X1)\n",
    "\n",
    "for iter in range(EPOCH_NUMBER):\n",
    "    error = 0.\n",
    "    print(\"\\n\\tEpoch \", iter + 1)\n",
    "    Y_predicted = []\n",
    "    for i in range(size_of_train):\n",
    "        x = [X1[i], X2[i], X3[i], X4[i]]\n",
    "        y_true = Y[i]\n",
    "        y_predicted = net.forward(x)\n",
    "        delta = loss(y_true, y_predicted)\n",
    "        error += abs(delta)\n",
    "        net.backward(delta, lr)\n",
    "        Y_predicted.append(y_predicted)\n",
    "    L_iter.append(error)\n",
    "    print(\"W = \", net.W)\n",
    "    print(\"Y = \", Y_predicted)\n",
    "    print(\"E = \", error)\n",
    "    if (error == 0):\n",
    "        break\n",
    "plt.plot(L_iter)"
   ]
  },
  {
   "cell_type": "markdown",
   "id": "e0151dd8-2fd2-4951-8998-e53bd51c0dfe",
   "metadata": {},
   "source": [
    "# Часть №3: binary step, поиск наименьшей комбинации"
   ]
  },
  {
   "cell_type": "code",
   "execution_count": 15,
   "id": "daee2d66-cc7b-4974-984c-c7cfa2bf339a",
   "metadata": {},
   "outputs": [
    {
     "name": "stdout",
     "output_type": "stream",
     "text": [
      "combination of size  15  found. Indexes :  (0, 1, 2, 3, 4, 5, 6, 7, 8, 9, 10, 11, 12, 13, 14)\n",
      "combination of size  14  found. Indexes :  (0, 1, 2, 3, 4, 5, 6, 7, 8, 9, 10, 11, 12, 13)\n",
      "combination of size  13  found. Indexes :  (0, 1, 2, 3, 4, 5, 6, 7, 8, 9, 10, 11, 13)\n",
      "combination of size  12  found. Indexes :  (0, 1, 2, 3, 4, 5, 6, 7, 8, 9, 10, 11)\n",
      "combination of size  11  found. Indexes :  (0, 1, 2, 3, 4, 5, 6, 7, 8, 9, 10)\n",
      "combination of size  10  found. Indexes :  (0, 1, 2, 3, 4, 5, 6, 7, 8, 9)\n",
      "combination of size  9  found. Indexes :  (0, 1, 2, 3, 4, 5, 6, 7, 8)\n",
      "combination of size  8  found. Indexes :  (0, 1, 2, 3, 4, 5, 6, 8)\n",
      "combination of size  7  found. Indexes :  (0, 1, 2, 3, 4, 8, 15)\n",
      "combination of size  6  found. Indexes :  (0, 1, 2, 3, 12, 15)\n",
      "combination of size  5  found. Indexes :  (0, 1, 2, 12, 15)\n",
      "combination of size  4  found. Indexes :  (0, 1, 12, 15)\n",
      "combination of size  3  found. Indexes :  (0, 12, 15)\n"
     ]
    }
   ],
   "source": [
    "EPOCH_NUMBER = 50\n",
    "for number_of_variables in range(15, 0, -1):\n",
    "    combs = tuple(combinations(range(16), number_of_variables))\n",
    "    for idxs in combs:\n",
    "        net = BinaryStepNet()        \n",
    "        L_iter = []\n",
    "        for epoch in range(EPOCH_NUMBER):\n",
    "            error_on_train = 0.\n",
    "            Y_predicted = []\n",
    "            for i in idxs:\n",
    "                x = [X1[i], X2[i], X3[i], X4[i]]\n",
    "                y_true = Y[i]\n",
    "                y_predicted = net.forward(x)\n",
    "                delta = loss(y_true, y_predicted)\n",
    "                error_on_train += abs(delta)\n",
    "                net.backward(delta, lr)\n",
    "                Y_predicted.append(y_predicted)\n",
    "            error_on_test = np.sum(loss(predict_for_binary_step(X_test), Y))\n",
    "            L_iter.append(error_on_test)\n",
    "            if (error_on_test == 0):\n",
    "                break\n",
    "                \n",
    "        if L_iter[-1] == 0:\n",
    "            print(\"combination of size \", number_of_variables, \" found. Indexes : \", idxs)\n",
    "            break"
   ]
  },
  {
   "cell_type": "markdown",
   "id": "df28f2e3-507f-4694-9843-0bbb19977a9b",
   "metadata": {},
   "source": [
    "Проверяем, что на выборке размера 3, состоящей из наборов с индексами 0, 12, 15, нейросеть действительно обучилась и перестала ошибаться на тесте"
   ]
  },
  {
   "cell_type": "code",
   "execution_count": 16,
   "id": "19dcc871-35e1-437a-a5ac-77375293d88a",
   "metadata": {},
   "outputs": [
    {
     "data": {
      "text/plain": [
       "[<matplotlib.lines.Line2D at 0x7f8ae2482970>]"
      ]
     },
     "execution_count": 16,
     "metadata": {},
     "output_type": "execute_result"
    },
    {
     "data": {
      "image/png": "[encoded data removed]",
      "text/plain": [
       "<Figure size 432x288 with 1 Axes>"
      ]
     },
     "metadata": {
      "needs_background": "light"
     },
     "output_type": "display_data"
    }
   ],
   "source": [
    "net = BinaryStepNet()        \n",
    "L_iter = []\n",
    "idxs = [0, 12, 15]\n",
    "for epoch in range(EPOCH_NUMBER):\n",
    "    error_on_train = 0.\n",
    "    Y_predicted = []\n",
    "    for i in idxs:\n",
    "        x = [X1[i], X2[i], X3[i], X4[i]]\n",
    "        y_true = Y[i]\n",
    "        y_predicted = net.forward(x)\n",
    "        delta = loss(y_true, y_predicted)\n",
    "        error_on_train += abs(delta)\n",
    "        net.backward(delta, lr)\n",
    "        Y_predicted.append(y_predicted)\n",
    "    error_on_test = np.sum(loss(predict_for_binary_step(X_test), Y))\n",
    "    L_iter.append(error_on_test)\n",
    "    if (error_on_test == 0):\n",
    "        break\n",
    "plt.plot(L_iter)"
   ]
  },
  {
   "cell_type": "markdown",
   "id": "94ada314-943a-42e7-b360-2664f81dc256",
   "metadata": {},
   "source": [
    "# Часть №4: softsign, поиск наименьшей комбинации"
   ]
  },
  {
   "cell_type": "code",
   "execution_count": 17,
   "id": "7a87a6c1-984d-4d84-911f-87a6065729e5",
   "metadata": {
    "tags": []
   },
   "outputs": [
    {
     "name": "stdout",
     "output_type": "stream",
     "text": [
      "combination of size  15  found. Indexes :  (0, 1, 2, 3, 4, 5, 6, 7, 8, 9, 10, 11, 12, 13, 14)\n",
      "combination of size  14  found. Indexes :  (0, 1, 2, 3, 4, 5, 6, 7, 8, 9, 10, 11, 12, 13)\n",
      "combination of size  13  found. Indexes :  (0, 1, 2, 3, 4, 5, 6, 7, 8, 9, 10, 11, 13)\n",
      "combination of size  12  found. Indexes :  (0, 1, 2, 3, 4, 5, 6, 7, 8, 9, 10, 11)\n",
      "combination of size  11  found. Indexes :  (0, 1, 2, 3, 4, 5, 6, 7, 8, 9, 10)\n",
      "combination of size  10  found. Indexes :  (0, 1, 2, 3, 4, 5, 6, 7, 8, 9)\n",
      "combination of size  9  found. Indexes :  (0, 1, 2, 3, 4, 5, 6, 7, 8)\n",
      "combination of size  8  found. Indexes :  (0, 1, 2, 3, 4, 5, 6, 8)\n",
      "combination of size  7  found. Indexes :  (0, 1, 2, 3, 4, 8, 15)\n",
      "combination of size  6  found. Indexes :  (0, 1, 2, 4, 8, 15)\n",
      "combination of size  5  found. Indexes :  (0, 1, 4, 8, 15)\n",
      "combination of size  4  found. Indexes :  (0, 4, 8, 15)\n"
     ]
    }
   ],
   "source": [
    "EPOCH_NUMBER = 50\n",
    "for number_of_variables in range(15, 0, -1):\n",
    "    combs = tuple(combinations(range(16), number_of_variables))\n",
    "    for idxs in combs:\n",
    "        net = SoftsignNet()        \n",
    "        L_iter = []\n",
    "        for epoch in range(EPOCH_NUMBER):\n",
    "            error_on_train = 0.\n",
    "            Y_predicted = []\n",
    "            for i in idxs:\n",
    "                x = [X1[i], X2[i], X3[i], X4[i]]\n",
    "                y_true = Y[i]\n",
    "                y_predicted = net.forward(x)\n",
    "                delta = loss(y_true, y_predicted)\n",
    "                error_on_train += abs(delta)\n",
    "                net.backward(delta, lr)\n",
    "                Y_predicted.append(y_predicted)\n",
    "            error_on_test = np.sum(loss(predict_for_softsign(X_test), Y))\n",
    "            L_iter.append(error_on_test)\n",
    "            if (error_on_test == 0):\n",
    "                break\n",
    "                \n",
    "        if L_iter[-1] == 0:\n",
    "            print(\"combination of size \", number_of_variables, \" found. Indexes : \", idxs)\n",
    "            break"
   ]
  },
  {
   "cell_type": "markdown",
   "id": "ddf0d3bf-26b8-45a0-9e36-abc530ab4618",
   "metadata": {},
   "source": [
    "Проверяем, что на выборке размера 4, состоящей из наборов с индексами 0, 4, 8, 15, нейросеть действительно обучилась и перестала ошибаться на тесте"
   ]
  },
  {
   "cell_type": "code",
   "execution_count": 19,
   "id": "12892c21-86d7-4d8e-bd84-4d076ee3b1bb",
   "metadata": {},
   "outputs": [
    {
     "data": {
      "text/plain": [
       "[<matplotlib.lines.Line2D at 0x7f8ae26321c0>]"
      ]
     },
     "execution_count": 19,
     "metadata": {},
     "output_type": "execute_result"
    },
    {
     "data": {
      "image/png": "[encoded data removed]",
      "text/plain": [
       "<Figure size 432x288 with 1 Axes>"
      ]
     },
     "metadata": {
      "needs_background": "light"
     },
     "output_type": "display_data"
    }
   ],
   "source": [
    "net = SoftsignNet()        \n",
    "L_iter = []\n",
    "idxs = [0, 4, 8, 15]\n",
    "for epoch in range(EPOCH_NUMBER):\n",
    "    error_on_train = 0.\n",
    "    Y_predicted = []\n",
    "    for i in idxs:\n",
    "        x = [X1[i], X2[i], X3[i], X4[i]]\n",
    "        y_true = Y[i]\n",
    "        y_predicted = net.forward(x)\n",
    "        delta = loss(y_true, y_predicted)\n",
    "        error_on_train += abs(delta)\n",
    "        net.backward(delta, lr)\n",
    "        Y_predicted.append(y_predicted)\n",
    "    error_on_test = np.sum(loss(predict_for_softsign(X_test), Y))\n",
    "    L_iter.append(error_on_test)\n",
    "    if (error_on_test == 0):\n",
    "        break\n",
    "plt.plot(L_iter)"
   ]
  },
  {
   "cell_type": "code",
   "execution_count": null,
   "id": "a92a503f-1059-4f07-8e48-8462799ef742",
   "metadata": {},
   "outputs": [],
   "source": []
  }
 ],
 "metadata": {
  "kernelspec": {
   "display_name": "Python 3",
   "language": "python",
   "name": "python3"
  },
  "language_info": {
   "codemirror_mode": {
    "name": "ipython",
    "version": 3
   },
   "file_extension": ".py",
   "mimetype": "text/x-python",
   "name": "python",
   "nbconvert_exporter": "python",
   "pygments_lexer": "ipython3",
   "version": "3.8.8"
  }
 },
 "nbformat": 4,
 "nbformat_minor": 5
}
