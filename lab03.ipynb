{
 "cells": [
  {
   "cell_type": "markdown",
   "id": "f6a4884d-b48b-4be6-8097-f4b81eba0245",
   "metadata": {},
   "source": [
    "# Лабораторная работа №3. Применение однослойной нейронной сети с линейной функцией активации для прогнозирования временных рядов"
   ]
  },
  {
   "cell_type": "code",
   "execution_count": 1,
   "id": "a770ecd3-4855-4f86-9c99-5fed00089e3a",
   "metadata": {},
   "outputs": [],
   "source": [
    "import numpy as np\n",
    "import matplotlib.pyplot as plt\n",
    "from math import sqrt"
   ]
  },
  {
   "cell_type": "code",
   "execution_count": 2,
   "id": "32d262c5-ab52-4e73-b1a5-82ec089a5874",
   "metadata": {},
   "outputs": [],
   "source": [
    "def simulated_function(t):\n",
    "    return 0.4 * np.sin(0.3 * t) + 0.5"
   ]
  },
  {
   "cell_type": "markdown",
   "id": "aec19e99-c2b9-4ed3-a1ad-488724b04a1e",
   "metadata": {},
   "source": [
    "## Рассмотрим для начала размер окна p = 4"
   ]
  },
  {
   "cell_type": "code",
   "execution_count": 3,
   "id": "8cc56e98-f8f5-4e56-8db2-6173bfb17476",
   "metadata": {},
   "outputs": [],
   "source": [
    "start = -4\n",
    "stop = 4\n",
    "points_number = 20\n",
    "p = 4"
   ]
  },
  {
   "cell_type": "markdown",
   "id": "1887ffff-397f-4af6-9fff-b26b02e306ae",
   "metadata": {},
   "source": [
    "### Готовим обучающую выборку"
   ]
  },
  {
   "cell_type": "code",
   "execution_count": 4,
   "id": "27b218bf-9bb3-4769-a81d-4911cbcbbb5c",
   "metadata": {},
   "outputs": [],
   "source": [
    "t = np.linspace(start, stop, points_number, endpoint=True) # равномерно распределенные на отрезке [start, stop] значения t\n",
    "x = simulated_function(t) # points_number значений нашего временного ряда"
   ]
  },
  {
   "cell_type": "code",
   "execution_count": 5,
   "id": "60765324-3bd4-4c8c-bcde-40537b3c5afa",
   "metadata": {},
   "outputs": [
    {
     "data": {
      "text/plain": [
       "array([0.12718437, 0.14841463, 0.17524722, 0.20725458, 0.24392668,\n",
       "       0.28467918, 0.3288627 , 0.3757732 , 0.42466319, 0.47475363,\n",
       "       0.52524637, 0.57533681, 0.6242268 , 0.6711373 , 0.71532082,\n",
       "       0.75607332, 0.79274542, 0.82475278, 0.85158537, 0.87281563])"
      ]
     },
     "execution_count": 5,
     "metadata": {},
     "output_type": "execute_result"
    }
   ],
   "source": [
    "x"
   ]
  },
  {
   "cell_type": "markdown",
   "id": "025c7e7c-3da7-4d44-b097-0cdd9634679c",
   "metadata": {},
   "source": [
    "### График обучающей выборки"
   ]
  },
  {
   "cell_type": "code",
   "execution_count": 6,
   "id": "3bf46905-3463-462c-82fe-ac1d858eddd8",
   "metadata": {},
   "outputs": [
    {
     "data": {
      "text/plain": [
       "[<matplotlib.lines.Line2D at 0x7fe7d028c850>]"
      ]
     },
     "execution_count": 6,
     "metadata": {},
     "output_type": "execute_result"
    },
    {
     "data": {
      "image/png": "[encoded data removed]",
      "text/plain": [
       "<Figure size 432x288 with 1 Axes>"
      ]
     },
     "metadata": {
      "needs_background": "light"
     },
     "output_type": "display_data"
    }
   ],
   "source": [
    "plt.plot(t, x)\n",
    "plt.plot(t, x, 'o', color='tab:blue')"
   ]
  },
  {
   "cell_type": "markdown",
   "id": "da0a82a9-39ab-4b94-aff9-111e93e52192",
   "metadata": {},
   "source": [
    "### Все возможные \"скользящие окна\""
   ]
  },
  {
   "cell_type": "code",
   "execution_count": 7,
   "id": "06f907b7-2339-4b31-afea-cf8ad425ddb9",
   "metadata": {},
   "outputs": [],
   "source": [
    "X_sliding_windows = np.array([[x[j] for j in range(i, i + p)] for i in range(points_number - p)])"
   ]
  },
  {
   "cell_type": "code",
   "execution_count": 8,
   "id": "fb8d4d49-eea6-4d9c-a6e3-58144f455da1",
   "metadata": {},
   "outputs": [
    {
     "data": {
      "text/plain": [
       "(array([0.12718437, 0.14841463, 0.17524722, 0.20725458]),\n",
       " array([0.75607332, 0.79274542, 0.82475278, 0.85158537]))"
      ]
     },
     "execution_count": 8,
     "metadata": {},
     "output_type": "execute_result"
    }
   ],
   "source": [
    "X_sliding_windows[0], X_sliding_windows[-1]"
   ]
  },
  {
   "cell_type": "markdown",
   "id": "32f04ad3-ca74-4686-be05-c84d4c4dcb31",
   "metadata": {},
   "source": [
    "### Правильные ответы для каждого набора иксов"
   ]
  },
  {
   "cell_type": "code",
   "execution_count": 9,
   "id": "d41bc76a-9f75-4718-9e64-1c73df331b51",
   "metadata": {},
   "outputs": [],
   "source": [
    "X_true = np.array([x[i] for i in range(p, points_number)])"
   ]
  },
  {
   "cell_type": "code",
   "execution_count": 10,
   "id": "9c7fdfdf-e8a6-4b7f-93b0-b6e40e19a741",
   "metadata": {},
   "outputs": [
    {
     "data": {
      "text/plain": [
       "array([0.24392668, 0.28467918, 0.3288627 , 0.3757732 , 0.42466319,\n",
       "       0.47475363, 0.52524637, 0.57533681, 0.6242268 , 0.6711373 ,\n",
       "       0.71532082, 0.75607332, 0.79274542, 0.82475278, 0.85158537,\n",
       "       0.87281563])"
      ]
     },
     "execution_count": 10,
     "metadata": {},
     "output_type": "execute_result"
    }
   ],
   "source": [
    "X_true"
   ]
  },
  {
   "cell_type": "code",
   "execution_count": 11,
   "id": "5b8cf03c-8a6b-4968-865e-dd827f94a506",
   "metadata": {},
   "outputs": [
    {
     "data": {
      "text/plain": [
       "(16, 16)"
      ]
     },
     "execution_count": 11,
     "metadata": {},
     "output_type": "execute_result"
    }
   ],
   "source": [
    "len(X_sliding_windows), len(X_true)"
   ]
  },
  {
   "cell_type": "markdown",
   "id": "a17d4675-aa52-40cc-af35-1b4915ac59a2",
   "metadata": {},
   "source": [
    "### Готовим тестовую выборку"
   ]
  },
  {
   "cell_type": "code",
   "execution_count": 12,
   "id": "a3f9d1bf-fe7e-4d09-810b-6339fd21b431",
   "metadata": {},
   "outputs": [],
   "source": [
    "t_test = np.linspace(stop, 12, points_number, endpoint=True)[1:]\n",
    "x_test = simulated_function(t_test)"
   ]
  },
  {
   "cell_type": "markdown",
   "id": "e567ffd0-1f08-4d97-b642-05f39025178f",
   "metadata": {},
   "source": [
    "### График тестовой выборки"
   ]
  },
  {
   "cell_type": "code",
   "execution_count": 13,
   "id": "1e3781df-75c5-4cc1-b0a4-47aaa8518bdd",
   "metadata": {},
   "outputs": [
    {
     "data": {
      "text/plain": [
       "[<matplotlib.lines.Line2D at 0x7fe7c210ab20>]"
      ]
     },
     "execution_count": 13,
     "metadata": {},
     "output_type": "execute_result"
    },
    {
     "data": {
      "image/png": "[encoded data removed]",
      "text/plain": [
       "<Figure size 432x288 with 1 Axes>"
      ]
     },
     "metadata": {
      "needs_background": "light"
     },
     "output_type": "display_data"
    }
   ],
   "source": [
    "plt.plot(t_test, x_test)\n",
    "plt.plot(t_test, x_test, 'o', color='tab:blue')"
   ]
  },
  {
   "cell_type": "markdown",
   "id": "6091809a-2ea6-42fe-8f10-133c32b9129d",
   "metadata": {},
   "source": [
    "### Обучающая и тестовая выборки на одном графике"
   ]
  },
  {
   "cell_type": "code",
   "execution_count": 14,
   "id": "6db09a24-c3d8-4cc3-82d5-9e1d677188d3",
   "metadata": {},
   "outputs": [
    {
     "data": {
      "image/png": "[encoded data removed]",
      "text/plain": [
       "<Figure size 432x288 with 1 Axes>"
      ]
     },
     "metadata": {
      "needs_background": "light"
     },
     "output_type": "display_data"
    }
   ],
   "source": [
    "fig, ax = plt.subplots()\n",
    "plt.plot(t, x, 'o', color='tab:blue')\n",
    "plt.plot(t_test, x_test, 'o', color='tab:green')\n",
    "plt.plot(t, x, color='tab:blue')\n",
    "plt.plot(t_test, x_test, color='tab:green')\n",
    "ax.legend(['train X(t)', 'test X(t)'])\n",
    "ax.set_xlabel('t', fontsize=14)\n",
    "ax.set_ylabel('x', fontsize=14)\n",
    "ax.set_title('x(t)', fontsize=14)\n",
    "plt.show()"
   ]
  },
  {
   "cell_type": "markdown",
   "id": "b82ea790-fc8d-4fa0-9926-02dab652e98d",
   "metadata": {},
   "source": [
    "### Функции, нужные для обучения и получения предсказания"
   ]
  },
  {
   "cell_type": "code",
   "execution_count": 15,
   "id": "e13cc11a-1088-49a2-b94d-3edbd0ec87f5",
   "metadata": {},
   "outputs": [],
   "source": [
    "def get_delta(x_true, x_predicted):\n",
    "    return x_true - x_predicted"
   ]
  },
  {
   "cell_type": "code",
   "execution_count": 16,
   "id": "8755d172-d23c-4b5d-bf46-5cd12cc135ae",
   "metadata": {},
   "outputs": [],
   "source": [
    "def predict(net, x, number_of_predictions):\n",
    "    x_test = x[points_number - p:points_number]\n",
    "    predict = []\n",
    "    for i in range(number_of_predictions):\n",
    "        x_next = net.forward(x_test)\n",
    "        predict.append(x_next)\n",
    "        x_test = np.append(x_test[1:], x_next)\n",
    "    return np.array(predict)"
   ]
  },
  {
   "cell_type": "code",
   "execution_count": 17,
   "id": "297b467f-b382-408f-b5e9-cee39ae4d002",
   "metadata": {},
   "outputs": [],
   "source": [
    "def show_predict(net, t_test, x_test, x):\n",
    "    x_predicted = predict(net, x, len(t_test))\n",
    "    fig, ax = plt.subplots()\n",
    "    ax.plot(t_test, x_test, color = 'tab:pink')\n",
    "    ax.plot(t_test, x_predicted, 'o', color = 'xkcd:sky blue')\n",
    "    ax.set_xlabel('t', fontsize=14)\n",
    "    ax.set_ylabel('x', fontsize=14)\n",
    "    ax.set_title('x(t)', fontsize=14)\n",
    "    ax.legend(['true X(t)', 'predicted X(t)'])"
   ]
  },
  {
   "cell_type": "markdown",
   "id": "b4b25774-8663-47c2-810a-5cc2bcbb01d9",
   "metadata": {},
   "source": [
    "### Нейросеть"
   ]
  },
  {
   "cell_type": "code",
   "execution_count": 18,
   "id": "9120545b-887e-45a4-b3b3-57444d613171",
   "metadata": {},
   "outputs": [],
   "source": [
    "class Net:\n",
    "    \n",
    "    def __init__(self, neurons_number, seed=1):\n",
    "        np.random.seed(seed)\n",
    "        self.W = np.zeros(shape=neurons_number)\n",
    "        self.b = 0\n",
    "#         self.W = np.random.normal(scale=0.1, size=4)\n",
    "#         self.b = np.random.randint(1)\n",
    "    \n",
    "    def forward(self, x):\n",
    "        self.x = x\n",
    "        self.net = np.dot(self.W, x) + self.b\n",
    "        return self.net\n",
    "    \n",
    "    def backward(self, delta, lr=0.01):\n",
    "        self.dW = np.dot(lr * delta, self.x)\n",
    "        self.db = lr * delta\n",
    "        self.W = self.W + self.dW\n",
    "        self.b = self.b + self.db"
   ]
  },
  {
   "cell_type": "markdown",
   "id": "ee41a8de-c817-4e3e-9549-7cf7a4bc5233",
   "metadata": {},
   "source": [
    "### Функция обучения нейросети"
   ]
  },
  {
   "cell_type": "code",
   "execution_count": 19,
   "id": "eecd1bd6-c17b-4099-a780-6b6a6c0f28b5",
   "metadata": {},
   "outputs": [],
   "source": [
    "def train_neural_network(X_sliding_windows, X_true, neurons_number, epoch_number, lr):\n",
    "    net = Net(neurons_number)\n",
    "    L_iter = []\n",
    "    for epoch in range(epoch_number):\n",
    "        error = 0\n",
    "        Y_predicted = []\n",
    "        for i in range(len(X_sliding_windows)):\n",
    "            x_train = X_sliding_windows[i]\n",
    "            y_true = X_true[i]\n",
    "            y_predicted = net.forward(x_train)\n",
    "            delta = get_delta(y_true, y_predicted)\n",
    "            error += delta ** 2\n",
    "            net.backward(delta, lr)\n",
    "            Y_predicted.append(y_predicted)\n",
    "        L_iter.append(sqrt(error))\n",
    "\n",
    "        if (error == 0):\n",
    "            break\n",
    "    print('epsilon =', L_iter[-1])\n",
    "    fig, ax = plt.subplots()\n",
    "    ax.plot(list(range(epoch_number)), L_iter)\n",
    "    ax.set_xlabel('epoch number')\n",
    "    ax.set_ylabel('error')\n",
    "    ax.set_title('Error(epoch)')\n",
    "    return net"
   ]
  },
  {
   "cell_type": "markdown",
   "id": "1e791bd6-64b8-453d-82a3-f2558d8ab8e7",
   "metadata": {},
   "source": [
    "### 1. Обучаем нейросеть. 3000 эпох, норма обучения 0.3"
   ]
  },
  {
   "cell_type": "code",
   "execution_count": 20,
   "id": "7e247f91-5c0b-445e-9ec9-a947d47378cb",
   "metadata": {},
   "outputs": [
    {
     "name": "stdout",
     "output_type": "stream",
     "text": [
      "epsilon = 0.004300574847085467\n"
     ]
    },
    {
     "data": {
      "image/png": "[encoded data removed]",
      "text/plain": [
       "<Figure size 432x288 with 1 Axes>"
      ]
     },
     "metadata": {
      "needs_background": "light"
     },
     "output_type": "display_data"
    }
   ],
   "source": [
    "net1 = train_neural_network(X_sliding_windows, X_true, neurons_number=p, epoch_number=3000, lr=0.3)"
   ]
  },
  {
   "cell_type": "code",
   "execution_count": 21,
   "id": "e28584e0-83c3-4d32-9bd4-3412eefc42f9",
   "metadata": {},
   "outputs": [
    {
     "data": {
      "image/png": "[encoded data removed]",
      "text/plain": [
       "<Figure size 432x288 with 1 Axes>"
      ]
     },
     "metadata": {
      "needs_background": "light"
     },
     "output_type": "display_data"
    }
   ],
   "source": [
    "show_predict(net1, t_test, x_test, x)"
   ]
  },
  {
   "cell_type": "code",
   "execution_count": 22,
   "id": "f2476f84-74c2-4259-9194-34b5ad8d5593",
   "metadata": {},
   "outputs": [
    {
     "name": "stdout",
     "output_type": "stream",
     "text": [
      "b =  0.027756947012605577 W =  [-0.45793063  0.00793032  0.47388605  0.9325118 ]\n"
     ]
    }
   ],
   "source": [
    "print('b = ', net1.b, 'W = ', net1.W)"
   ]
  },
  {
   "cell_type": "markdown",
   "id": "97becb7a-2fcf-4c7f-8a96-7250b38db81d",
   "metadata": {},
   "source": [
    "### 2. Обучаем нейросеть. 7000 эпох, норма обучения 0.3"
   ]
  },
  {
   "cell_type": "code",
   "execution_count": 23,
   "id": "46b66df4-f95d-4432-92ac-7e7f857a7c51",
   "metadata": {},
   "outputs": [
    {
     "name": "stdout",
     "output_type": "stream",
     "text": [
      "epsilon = 0.00010990165043097895\n"
     ]
    },
    {
     "data": {
      "image/png": "[encoded data removed]",
      "text/plain": [
       "<Figure size 432x288 with 1 Axes>"
      ]
     },
     "metadata": {
      "needs_background": "light"
     },
     "output_type": "display_data"
    }
   ],
   "source": [
    "net2 = train_neural_network(X_sliding_windows, X_true, neurons_number=p, epoch_number=7000, lr=0.3)"
   ]
  },
  {
   "cell_type": "code",
   "execution_count": 24,
   "id": "da73ce53-6133-4ac8-a7cf-1b1984b2d51c",
   "metadata": {},
   "outputs": [
    {
     "data": {
      "image/png": "[encoded data removed]",
      "text/plain": [
       "<Figure size 432x288 with 1 Axes>"
      ]
     },
     "metadata": {
      "needs_background": "light"
     },
     "output_type": "display_data"
    }
   ],
   "source": [
    "show_predict(net2, t_test, x_test, x)"
   ]
  },
  {
   "cell_type": "code",
   "execution_count": 25,
   "id": "47cc927c-e9d0-44d4-804e-81fd5b2167a5",
   "metadata": {},
   "outputs": [
    {
     "name": "stdout",
     "output_type": "stream",
     "text": [
      "b =  0.020178506365570864 W =  [-0.50191841 -0.00617036  0.48983677  0.97819938]\n"
     ]
    }
   ],
   "source": [
    "print('b = ', net2.b, 'W = ', net2.W)"
   ]
  },
  {
   "cell_type": "markdown",
   "id": "dd7fc02f-8578-412a-b53a-310a2f088fda",
   "metadata": {},
   "source": [
    "### 3. Обучаем нейросеть. 7000 эпох, норма обучения 0.1"
   ]
  },
  {
   "cell_type": "code",
   "execution_count": 26,
   "id": "4d7607f6-d8a9-43be-8b83-d97048900a63",
   "metadata": {},
   "outputs": [
    {
     "name": "stdout",
     "output_type": "stream",
     "text": [
      "epsilon = 0.004214804500508958\n"
     ]
    },
    {
     "data": {
      "image/png": "[encoded data removed]",
      "text/plain": [
       "<Figure size 432x288 with 1 Axes>"
      ]
     },
     "metadata": {
      "needs_background": "light"
     },
     "output_type": "display_data"
    }
   ],
   "source": [
    "net3 = train_neural_network(X_sliding_windows, X_true, neurons_number=p, epoch_number=7000, lr=0.1)"
   ]
  },
  {
   "cell_type": "code",
   "execution_count": 27,
   "id": "d6179f19-81e5-46ab-a0cd-0eabc6c20b18",
   "metadata": {},
   "outputs": [
    {
     "data": {
      "image/png": "[encoded data removed]",
      "text/plain": [
       "<Figure size 432x288 with 1 Axes>"
      ]
     },
     "metadata": {
      "needs_background": "light"
     },
     "output_type": "display_data"
    }
   ],
   "source": [
    "show_predict(net3, t_test, x_test, x)"
   ]
  },
  {
   "cell_type": "code",
   "execution_count": 28,
   "id": "34250e7a-5127-497b-837c-c13eff102804",
   "metadata": {},
   "outputs": [
    {
     "name": "stdout",
     "output_type": "stream",
     "text": [
      "b =  0.0262484340037492 W =  [-0.46134576  0.0072025   0.47584512  0.93711452]\n"
     ]
    }
   ],
   "source": [
    "print('b = ', net3.b, 'W = ', net3.W)"
   ]
  },
  {
   "cell_type": "markdown",
   "id": "85498e90-2c42-43ef-bfa7-40cdb24abab3",
   "metadata": {},
   "source": [
    "### 4. Обучаем нейросеть. 3000 эпох, норма обучения 0.5"
   ]
  },
  {
   "cell_type": "code",
   "execution_count": 29,
   "id": "c011989d-309a-4473-9110-876b99488751",
   "metadata": {},
   "outputs": [
    {
     "name": "stdout",
     "output_type": "stream",
     "text": [
      "epsilon = 0.002092962939537403\n"
     ]
    },
    {
     "data": {
      "image/png": "[encoded data removed]",
      "text/plain": [
       "<Figure size 432x288 with 1 Axes>"
      ]
     },
     "metadata": {
      "needs_background": "light"
     },
     "output_type": "display_data"
    }
   ],
   "source": [
    "net4 = train_neural_network(X_sliding_windows, X_true, neurons_number=p, epoch_number=3000, lr=0.5)"
   ]
  },
  {
   "cell_type": "code",
   "execution_count": 30,
   "id": "7b67e4ee-3d37-498f-b929-492d97a63482",
   "metadata": {},
   "outputs": [
    {
     "data": {
      "image/png": "[encoded data removed]",
      "text/plain": [
       "<Figure size 432x288 with 1 Axes>"
      ]
     },
     "metadata": {
      "needs_background": "light"
     },
     "output_type": "display_data"
    }
   ],
   "source": [
    "show_predict(net4, t_test, x_test, x)"
   ]
  },
  {
   "cell_type": "code",
   "execution_count": 31,
   "id": "7979ff86-3bd4-4c21-979e-fc22f2193bf9",
   "metadata": {},
   "outputs": [
    {
     "name": "stdout",
     "output_type": "stream",
     "text": [
      "b =  0.024224459381605792 W =  [-0.47935839  0.00100288  0.48154117  0.95459935]\n"
     ]
    }
   ],
   "source": [
    "print('b = ', net4.b, 'W = ', net4.W)"
   ]
  },
  {
   "cell_type": "markdown",
   "id": "1f3da33a-d142-46bc-a1b1-e732ca1fe40b",
   "metadata": {},
   "source": [
    "## Теперь рассмотрим размер окна p = 6"
   ]
  },
  {
   "cell_type": "code",
   "execution_count": 32,
   "id": "34de6c0b-8024-4874-bd7b-a8ba65c3a9ab",
   "metadata": {},
   "outputs": [],
   "source": [
    "p = 6"
   ]
  },
  {
   "cell_type": "markdown",
   "id": "e2a50285-19d3-4eff-b9ee-d98bd96f18ba",
   "metadata": {},
   "source": [
    "### Все возможные \"скользящие окна\""
   ]
  },
  {
   "cell_type": "code",
   "execution_count": 33,
   "id": "ea77e2ec-873e-436b-9d47-2570977a7b1a",
   "metadata": {},
   "outputs": [],
   "source": [
    "X_sliding_windows = np.array([[x[j] for j in range(i, i + p)] for i in range(points_number - p)])"
   ]
  },
  {
   "cell_type": "code",
   "execution_count": 34,
   "id": "21496cf8-7630-42e9-a835-dd42a3d7b24b",
   "metadata": {},
   "outputs": [
    {
     "data": {
      "text/plain": [
       "(array([0.12718437, 0.14841463, 0.17524722, 0.20725458, 0.24392668,\n",
       "        0.28467918]),\n",
       " array([0.6711373 , 0.71532082, 0.75607332, 0.79274542, 0.82475278,\n",
       "        0.85158537]))"
      ]
     },
     "execution_count": 34,
     "metadata": {},
     "output_type": "execute_result"
    }
   ],
   "source": [
    "X_sliding_windows[0], X_sliding_windows[-1]"
   ]
  },
  {
   "cell_type": "code",
   "execution_count": 35,
   "id": "9279863f-5159-47c3-a254-0424095de060",
   "metadata": {},
   "outputs": [
    {
     "data": {
      "text/plain": [
       "14"
      ]
     },
     "execution_count": 35,
     "metadata": {},
     "output_type": "execute_result"
    }
   ],
   "source": [
    "len(X_sliding_windows)"
   ]
  },
  {
   "cell_type": "markdown",
   "id": "87b2dda5-f01c-4ba5-b241-b04421f92fdd",
   "metadata": {},
   "source": [
    "### Правильные ответы для каждого набора иксов"
   ]
  },
  {
   "cell_type": "code",
   "execution_count": 36,
   "id": "eb903a20-bd3c-4250-b22f-4ef29f6fa3be",
   "metadata": {},
   "outputs": [],
   "source": [
    "X_true = np.array([x[i] for i in range(p, points_number)])"
   ]
  },
  {
   "cell_type": "code",
   "execution_count": 37,
   "id": "ab36209b-54c4-48d2-ab58-5667f0f982ae",
   "metadata": {},
   "outputs": [
    {
     "data": {
      "text/plain": [
       "array([0.3288627 , 0.3757732 , 0.42466319, 0.47475363, 0.52524637,\n",
       "       0.57533681, 0.6242268 , 0.6711373 , 0.71532082, 0.75607332,\n",
       "       0.79274542, 0.82475278, 0.85158537, 0.87281563])"
      ]
     },
     "execution_count": 37,
     "metadata": {},
     "output_type": "execute_result"
    }
   ],
   "source": [
    "X_true"
   ]
  },
  {
   "cell_type": "markdown",
   "id": "6380045f-f168-41da-86e3-0e9abf51735d",
   "metadata": {},
   "source": [
    "### Обучаем нейросеть. 4000 эпох, норма обучения 0.3"
   ]
  },
  {
   "cell_type": "code",
   "execution_count": 38,
   "id": "7f4764a5-6d2c-4e6e-8376-3b97aad4ce4b",
   "metadata": {},
   "outputs": [
    {
     "name": "stdout",
     "output_type": "stream",
     "text": [
      "epsilon = 0.00012001553283982967\n"
     ]
    },
    {
     "data": {
      "image/png": "[encoded data removed]",
      "text/plain": [
       "<Figure size 432x288 with 1 Axes>"
      ]
     },
     "metadata": {
      "needs_background": "light"
     },
     "output_type": "display_data"
    }
   ],
   "source": [
    "net5 = train_neural_network(X_sliding_windows, X_true, neurons_number=p, epoch_number=4000, lr=0.3)"
   ]
  },
  {
   "cell_type": "code",
   "execution_count": 39,
   "id": "4af7f41f-a5db-453c-b7aa-b46bb48b098b",
   "metadata": {},
   "outputs": [
    {
     "data": {
      "image/png": "[encoded data removed]",
      "text/plain": [
       "<Figure size 432x288 with 1 Axes>"
      ]
     },
     "metadata": {
      "needs_background": "light"
     },
     "output_type": "display_data"
    }
   ],
   "source": [
    "show_predict(net5, t_test, x_test, x)"
   ]
  },
  {
   "cell_type": "code",
   "execution_count": 40,
   "id": "11b4803e-93bf-49b5-b942-f37752c197a3",
   "metadata": {},
   "outputs": [
    {
     "name": "stdout",
     "output_type": "stream",
     "text": [
      "b =  0.0378450312737479 W =  [-0.33751336 -0.14109195  0.0578792   0.2562296   0.45079863  0.63848594]\n"
     ]
    }
   ],
   "source": [
    "print('b = ', net5.b, 'W = ', net5.W)"
   ]
  },
  {
   "cell_type": "markdown",
   "id": "eb6c67fe-1c60-47e5-97a1-197b1f2906b0",
   "metadata": {},
   "source": [
    "Для хорошего обучения с lr = 0.3 нам понадобилось всего 4000 эпох, тогда как при p = 4 необходимо было не менее 7000 эпох."
   ]
  },
  {
   "cell_type": "markdown",
   "id": "261f8125-8cd0-4571-a8e0-b7af9a6ba4ef",
   "metadata": {},
   "source": [
    "## Теперь рассмотрим размер окна p = 2"
   ]
  },
  {
   "cell_type": "code",
   "execution_count": 41,
   "id": "c8809ccd-5486-4f8c-841c-49c7d27ccb6b",
   "metadata": {},
   "outputs": [],
   "source": [
    "p = 2"
   ]
  },
  {
   "cell_type": "markdown",
   "id": "a8d997cd-e7ab-4de9-8aad-13a90c16b667",
   "metadata": {},
   "source": [
    "### Все возможные \"скользящие окна\""
   ]
  },
  {
   "cell_type": "code",
   "execution_count": 42,
   "id": "bf9f312b-fd01-4f90-b4ea-c060b0639cc0",
   "metadata": {},
   "outputs": [],
   "source": [
    "X_sliding_windows = np.array([[x[j] for j in range(i, i + p)] for i in range(points_number - p)])"
   ]
  },
  {
   "cell_type": "code",
   "execution_count": 43,
   "id": "cef1ffb5-2711-442c-bf46-7b8ed035271f",
   "metadata": {},
   "outputs": [
    {
     "data": {
      "text/plain": [
       "(array([0.12718437, 0.14841463]), array([0.82475278, 0.85158537]))"
      ]
     },
     "execution_count": 43,
     "metadata": {},
     "output_type": "execute_result"
    }
   ],
   "source": [
    "X_sliding_windows[0], X_sliding_windows[-1]"
   ]
  },
  {
   "cell_type": "markdown",
   "id": "3aaaa454-13ae-4901-98ba-78a196bd93cf",
   "metadata": {},
   "source": [
    "### Правильные ответы для каждого набора иксов"
   ]
  },
  {
   "cell_type": "code",
   "execution_count": 44,
   "id": "a9d6f09b-d1b5-4183-aa91-27199af4cff1",
   "metadata": {},
   "outputs": [],
   "source": [
    "X_true = np.array([x[i] for i in range(p, points_number)])"
   ]
  },
  {
   "cell_type": "code",
   "execution_count": 45,
   "id": "c789544b-bede-45f7-8c11-e55a204e0218",
   "metadata": {},
   "outputs": [
    {
     "data": {
      "text/plain": [
       "array([0.17524722, 0.20725458, 0.24392668, 0.28467918, 0.3288627 ,\n",
       "       0.3757732 , 0.42466319, 0.47475363, 0.52524637, 0.57533681,\n",
       "       0.6242268 , 0.6711373 , 0.71532082, 0.75607332, 0.79274542,\n",
       "       0.82475278, 0.85158537, 0.87281563])"
      ]
     },
     "execution_count": 45,
     "metadata": {},
     "output_type": "execute_result"
    }
   ],
   "source": [
    "X_true"
   ]
  },
  {
   "cell_type": "markdown",
   "id": "dabe2736-8cd1-46b9-ab26-6d52f55184ce",
   "metadata": {},
   "source": [
    "### Обучаем нейросеть. 35000 эпох, норма обучения 0.3"
   ]
  },
  {
   "cell_type": "code",
   "execution_count": 46,
   "id": "372c8142-11f1-4d76-a503-b52c20997996",
   "metadata": {},
   "outputs": [
    {
     "name": "stdout",
     "output_type": "stream",
     "text": [
      "epsilon = 0.00011643936115203302\n"
     ]
    },
    {
     "data": {
      "image/png": "[encoded data removed]",
      "text/plain": [
       "<Figure size 432x288 with 1 Axes>"
      ]
     },
     "metadata": {
      "needs_background": "light"
     },
     "output_type": "display_data"
    }
   ],
   "source": [
    "net6 = train_neural_network(X_sliding_windows, X_true, neurons_number=p, epoch_number=35000, lr=0.3)"
   ]
  },
  {
   "cell_type": "code",
   "execution_count": 47,
   "id": "473442b3-09da-401e-91d3-8fc6d1dac1e4",
   "metadata": {},
   "outputs": [
    {
     "data": {
      "image/png": "[encoded data removed]",
      "text/plain": [
       "<Figure size 432x288 with 1 Axes>"
      ]
     },
     "metadata": {
      "needs_background": "light"
     },
     "output_type": "display_data"
    }
   ],
   "source": [
    "show_predict(net6, t_test, x_test, x)"
   ]
  },
  {
   "cell_type": "code",
   "execution_count": 48,
   "id": "6835b241-3ca3-4dd3-af59-464a94ec444e",
   "metadata": {},
   "outputs": [
    {
     "name": "stdout",
     "output_type": "stream",
     "text": [
      "b =  0.00812389277459364 W =  [-0.99697578  1.98095882]\n"
     ]
    }
   ],
   "source": [
    "print('b = ', net6.b, 'W = ', net6.W)"
   ]
  },
  {
   "cell_type": "markdown",
   "id": "c9c53954-e018-4495-bdb6-2c1cf88a64d2",
   "metadata": {},
   "source": [
    "Для хорошего обучения с lr = 0.3 нам понадобилось 35000 эпох, тогда как при p = 4 необходимо было всего 7000 эпох."
   ]
  },
  {
   "cell_type": "markdown",
   "id": "26e1050e-e8fd-42b8-930d-8234d1eed22e",
   "metadata": {},
   "source": [
    "### Вывод\n",
    "При увеличении количества эпох среднеквадратичная погрешность приближения уменьшается.  \n",
    "При увеличении нормы обучения количество эпох, необходимое для полного обучения, уменьшается. Таким образом, норму обучения можно назвать скоростью обучения. Однако ее нельзя брать слишком большую, потому что иначе точку минимума функции потерь можно \"проскакивать\".  \n",
    "При увеличении длины \"скользящего окна\" количество эпох, необходимое для полного обучения, также уменьшается."
   ]
  },
  {
   "cell_type": "code",
   "execution_count": null,
   "id": "59628179-f9fb-4d2e-80e5-01c7762169c3",
   "metadata": {},
   "outputs": [],
   "source": []
  }
 ],
 "metadata": {
  "kernelspec": {
   "display_name": "Python 3",
   "language": "python",
   "name": "python3"
  },
  "language_info": {
   "codemirror_mode": {
    "name": "ipython",
    "version": 3
   },
   "file_extension": ".py",
   "mimetype": "text/x-python",
   "name": "python",
   "nbconvert_exporter": "python",
   "pygments_lexer": "ipython3",
   "version": "3.8.8"
  }
 },
 "nbformat": 4,
 "nbformat_minor": 5
}
