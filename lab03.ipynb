{
 "cells": [
  {
   "cell_type": "markdown",
   "id": "f6a4884d-b48b-4be6-8097-f4b81eba0245",
   "metadata": {},
   "source": [
    "# Лабораторная работа №3. Применение однослойной нейронной сети с линейной функцией активации для прогнозирования временных рядов"
   ]
  },
  {
   "cell_type": "code",
   "execution_count": 1,
   "id": "a770ecd3-4855-4f86-9c99-5fed00089e3a",
   "metadata": {},
   "outputs": [],
   "source": [
    "import numpy as np\n",
    "import matplotlib.pyplot as plt\n",
    "from math import sqrt"
   ]
  },
  {
   "cell_type": "code",
   "execution_count": 2,
   "id": "32d262c5-ab52-4e73-b1a5-82ec089a5874",
   "metadata": {},
   "outputs": [],
   "source": [
    "def simulated_function(t):\n",
    "    return 0.4 * np.sin(0.3 * t) + 0.5"
   ]
  },
  {
   "cell_type": "code",
   "execution_count": 3,
   "id": "8cc56e98-f8f5-4e56-8db2-6173bfb17476",
   "metadata": {},
   "outputs": [],
   "source": [
    "start = -4\n",
    "stop = 4\n",
    "points_number = 20\n",
    "p = 6"
   ]
  },
  {
   "cell_type": "markdown",
   "id": "1887ffff-397f-4af6-9fff-b26b02e306ae",
   "metadata": {},
   "source": [
    "### Готовим обучающую выборку"
   ]
  },
  {
   "cell_type": "code",
   "execution_count": 4,
   "id": "27b218bf-9bb3-4769-a81d-4911cbcbbb5c",
   "metadata": {},
   "outputs": [],
   "source": [
    "t = np.linspace(start, stop, points_number, endpoint=True) # равномерно распределенные на отрезке [start, stop] значения t\n",
    "x = simulated_function(t) # points_number значений нашего временного ряда"
   ]
  },
  {
   "cell_type": "code",
   "execution_count": 5,
   "id": "60765324-3bd4-4c8c-bcde-40537b3c5afa",
   "metadata": {},
   "outputs": [
    {
     "data": {
      "text/plain": [
       "array([0.12718437, 0.14841463, 0.17524722, 0.20725458, 0.24392668,\n",
       "       0.28467918, 0.3288627 , 0.3757732 , 0.42466319, 0.47475363,\n",
       "       0.52524637, 0.57533681, 0.6242268 , 0.6711373 , 0.71532082,\n",
       "       0.75607332, 0.79274542, 0.82475278, 0.85158537, 0.87281563])"
      ]
     },
     "execution_count": 5,
     "metadata": {},
     "output_type": "execute_result"
    }
   ],
   "source": [
    "x"
   ]
  },
  {
   "cell_type": "markdown",
   "id": "025c7e7c-3da7-4d44-b097-0cdd9634679c",
   "metadata": {},
   "source": [
    "### График обучающей выборки"
   ]
  },
  {
   "cell_type": "code",
   "execution_count": 6,
   "id": "3bf46905-3463-462c-82fe-ac1d858eddd8",
   "metadata": {},
   "outputs": [
    {
     "data": {
      "text/plain": [
       "[<matplotlib.lines.Line2D at 0x7ff6b83bd070>]"
      ]
     },
     "execution_count": 6,
     "metadata": {},
     "output_type": "execute_result"
    },
    {
     "data": {
      "image/png": "[encoded data removed]",
      "text/plain": [
       "<Figure size 432x288 with 1 Axes>"
      ]
     },
     "metadata": {
      "needs_background": "light"
     },
     "output_type": "display_data"
    }
   ],
   "source": [
    "plt.plot(t, x)\n",
    "plt.plot(t, x, 'o', color='tab:blue')"
   ]
  },
  {
   "cell_type": "markdown",
   "id": "da0a82a9-39ab-4b94-aff9-111e93e52192",
   "metadata": {},
   "source": [
    "### Все возможные \"скользящие окна\""
   ]
  },
  {
   "cell_type": "code",
   "execution_count": 7,
   "id": "06f907b7-2339-4b31-afea-cf8ad425ddb9",
   "metadata": {},
   "outputs": [],
   "source": [
    "X_sliding_windows = np.array([[x[j] for j in range(i, i + p)] for i in range(points_number - p)])"
   ]
  },
  {
   "cell_type": "code",
   "execution_count": 8,
   "id": "fb8d4d49-eea6-4d9c-a6e3-58144f455da1",
   "metadata": {},
   "outputs": [
    {
     "data": {
      "text/plain": [
       "(array([0.12718437, 0.14841463, 0.17524722, 0.20725458, 0.24392668,\n",
       "        0.28467918]),\n",
       " array([0.6711373 , 0.71532082, 0.75607332, 0.79274542, 0.82475278,\n",
       "        0.85158537]))"
      ]
     },
     "execution_count": 8,
     "metadata": {},
     "output_type": "execute_result"
    }
   ],
   "source": [
    "X_sliding_windows[0], X_sliding_windows[-1]"
   ]
  },
  {
   "cell_type": "markdown",
   "id": "32f04ad3-ca74-4686-be05-c84d4c4dcb31",
   "metadata": {},
   "source": [
    "### Правильные ответы для каждого набора иксов"
   ]
  },
  {
   "cell_type": "code",
   "execution_count": 9,
   "id": "d41bc76a-9f75-4718-9e64-1c73df331b51",
   "metadata": {},
   "outputs": [],
   "source": [
    "X_true = np.array([x[i] for i in range(p, points_number)])"
   ]
  },
  {
   "cell_type": "code",
   "execution_count": 10,
   "id": "9c7fdfdf-e8a6-4b7f-93b0-b6e40e19a741",
   "metadata": {},
   "outputs": [
    {
     "data": {
      "text/plain": [
       "array([0.3288627 , 0.3757732 , 0.42466319, 0.47475363, 0.52524637,\n",
       "       0.57533681, 0.6242268 , 0.6711373 , 0.71532082, 0.75607332,\n",
       "       0.79274542, 0.82475278, 0.85158537, 0.87281563])"
      ]
     },
     "execution_count": 10,
     "metadata": {},
     "output_type": "execute_result"
    }
   ],
   "source": [
    "X_true"
   ]
  },
  {
   "cell_type": "code",
   "execution_count": 12,
   "id": "5b8cf03c-8a6b-4968-865e-dd827f94a506",
   "metadata": {},
   "outputs": [
    {
     "data": {
      "text/plain": [
       "(14, 14)"
      ]
     },
     "execution_count": 12,
     "metadata": {},
     "output_type": "execute_result"
    }
   ],
   "source": [
    "len(X_sliding_windows), len(X_true)"
   ]
  },
  {
   "cell_type": "markdown",
   "id": "a17d4675-aa52-40cc-af35-1b4915ac59a2",
   "metadata": {},
   "source": [
    "### Готовим тестовую выборку"
   ]
  },
  {
   "cell_type": "code",
   "execution_count": 13,
   "id": "a3f9d1bf-fe7e-4d09-810b-6339fd21b431",
   "metadata": {},
   "outputs": [],
   "source": [
    "t_test = np.linspace(stop, 12, points_number, endpoint=True)[1:]\n",
    "x_test = simulated_function(t_test)"
   ]
  },
  {
   "cell_type": "markdown",
   "id": "e567ffd0-1f08-4d97-b642-05f39025178f",
   "metadata": {},
   "source": [
    "### График тестовой выборки"
   ]
  },
  {
   "cell_type": "code",
   "execution_count": 14,
   "id": "1e3781df-75c5-4cc1-b0a4-47aaa8518bdd",
   "metadata": {},
   "outputs": [
    {
     "data": {
      "text/plain": [
       "[<matplotlib.lines.Line2D at 0x7ff6aa689160>]"
      ]
     },
     "execution_count": 14,
     "metadata": {},
     "output_type": "execute_result"
    },
    {
     "data": {
      "image/png": "[encoded data removed]",
      "text/plain": [
       "<Figure size 432x288 with 1 Axes>"
      ]
     },
     "metadata": {
      "needs_background": "light"
     },
     "output_type": "display_data"
    }
   ],
   "source": [
    "plt.plot(t_test, x_test)\n",
    "plt.plot(t_test, x_test, 'o', color='tab:blue')"
   ]
  },
  {
   "cell_type": "markdown",
   "id": "6091809a-2ea6-42fe-8f10-133c32b9129d",
   "metadata": {},
   "source": [
    "### Обучающая и тестовая выборки на одном графике"
   ]
  },
  {
   "cell_type": "code",
   "execution_count": 15,
   "id": "6db09a24-c3d8-4cc3-82d5-9e1d677188d3",
   "metadata": {},
   "outputs": [
    {
     "data": {
      "image/png": "[encoded data removed]",
      "text/plain": [
       "<Figure size 432x288 with 1 Axes>"
      ]
     },
     "metadata": {
      "needs_background": "light"
     },
     "output_type": "display_data"
    }
   ],
   "source": [
    "fig, ax = plt.subplots()\n",
    "plt.plot(t, x, 'o', color='tab:blue')\n",
    "plt.plot(t_test, x_test, 'o', color='tab:green')\n",
    "plt.plot(t, x, color='tab:blue')\n",
    "plt.plot(t_test, x_test, color='tab:green')\n",
    "ax.legend(['train X(t)', 'test X(t)'])\n",
    "ax.set_xlabel('t', fontsize=14)\n",
    "ax.set_ylabel('x', fontsize=14)\n",
    "ax.set_title('x(t)', fontsize=14)\n",
    "plt.show()"
   ]
  },
  {
   "cell_type": "markdown",
   "id": "b82ea790-fc8d-4fa0-9926-02dab652e98d",
   "metadata": {},
   "source": [
    "### Функции, нужные для обучения и получения предсказания"
   ]
  },
  {
   "cell_type": "code",
   "execution_count": 16,
   "id": "e13cc11a-1088-49a2-b94d-3edbd0ec87f5",
   "metadata": {},
   "outputs": [],
   "source": [
    "def get_delta(x_true, x_predicted):\n",
    "    return x_true - x_predicted"
   ]
  },
  {
   "cell_type": "code",
   "execution_count": 17,
   "id": "8755d172-d23c-4b5d-bf46-5cd12cc135ae",
   "metadata": {},
   "outputs": [],
   "source": [
    "def predict(net, x, number_of_predictions):\n",
    "    x_test = x[points_number - p:points_number]\n",
    "    predict = []\n",
    "    for i in range(number_of_predictions):\n",
    "        x_next = net.forward(x_test)\n",
    "        predict.append(x_next)\n",
    "        x_test = np.append(x_test[1:], x_next)\n",
    "    return np.array(predict)"
   ]
  },
  {
   "cell_type": "code",
   "execution_count": 26,
   "id": "297b467f-b382-408f-b5e9-cee39ae4d002",
   "metadata": {},
   "outputs": [],
   "source": [
    "def show_predict(net, t_test, x_test, x):\n",
    "    x_predicted = predict(net, x, len(t_test))\n",
    "    fig, ax = plt.subplots()\n",
    "    ax.plot(t_test, x_test, color = 'tab:pink')\n",
    "    ax.plot(t_test, x_predicted, 'o', color = 'xkcd:sky blue')\n",
    "    ax.set_xlabel('t', fontsize=14)\n",
    "    ax.set_ylabel('x', fontsize=14)\n",
    "    ax.set_title('x(t)', fontsize=14)\n",
    "    ax.legend(['true X(t)', 'predicted X(t)'])"
   ]
  },
  {
   "cell_type": "markdown",
   "id": "b4b25774-8663-47c2-810a-5cc2bcbb01d9",
   "metadata": {},
   "source": [
    "### Нейросеть"
   ]
  },
  {
   "cell_type": "code",
   "execution_count": 19,
   "id": "9120545b-887e-45a4-b3b3-57444d613171",
   "metadata": {},
   "outputs": [],
   "source": [
    "class Net:\n",
    "    \n",
    "    def __init__(self, seed=1):\n",
    "        np.random.seed(seed)\n",
    "        self.W = np.zeros(shape=6)\n",
    "        self.b = 0\n",
    "#         self.W = np.random.normal(scale=0.1, size=4)\n",
    "#         self.b = np.random.randint(1)\n",
    "    \n",
    "    def forward(self, x):\n",
    "        self.x = x\n",
    "        self.net = np.dot(self.W, x) + self.b\n",
    "        return self.net\n",
    "    \n",
    "    def backward(self, delta, lr=0.01):\n",
    "        self.dW = np.dot(lr * delta, self.x)\n",
    "        self.db = lr * delta\n",
    "        self.W = self.W + self.dW\n",
    "        self.b = self.b + self.db"
   ]
  },
  {
   "cell_type": "markdown",
   "id": "ee41a8de-c817-4e3e-9549-7cf7a4bc5233",
   "metadata": {},
   "source": [
    "### Функция обучения нейросети"
   ]
  },
  {
   "cell_type": "code",
   "execution_count": 20,
   "id": "eecd1bd6-c17b-4099-a780-6b6a6c0f28b5",
   "metadata": {},
   "outputs": [],
   "source": [
    "def train_neural_network(X_sliding_windows, X_true, epoch_number, lr, size_of_train=len(X_sliding_windows)):\n",
    "    net = Net()\n",
    "    L_iter = []\n",
    "    for epoch in range(epoch_number):\n",
    "        error = 0\n",
    "        Y_predicted = []\n",
    "        for i in range(size_of_train):\n",
    "            x_train = X_sliding_windows[i]\n",
    "            y_true = X_true[i]\n",
    "            y_predicted = net.forward(x_train)\n",
    "            delta = get_delta(y_true, y_predicted)\n",
    "            error += delta ** 2\n",
    "            net.backward(delta, lr)\n",
    "            Y_predicted.append(y_predicted)\n",
    "        L_iter.append(sqrt(error))\n",
    "\n",
    "        if (error == 0):\n",
    "            break\n",
    "    \n",
    "    fig, ax = plt.subplots()\n",
    "    ax.plot(list(range(epoch_number)), L_iter)\n",
    "    ax.set_xlabel('epoch number')\n",
    "    ax.set_ylabel('error')\n",
    "    ax.set_title('Error(epoch)')\n",
    "    return net"
   ]
  },
  {
   "cell_type": "markdown",
   "id": "1e791bd6-64b8-453d-82a3-f2558d8ab8e7",
   "metadata": {},
   "source": [
    "### Обучаем нейросеть. 2000 эпох"
   ]
  },
  {
   "cell_type": "code",
   "execution_count": 27,
   "id": "7e247f91-5c0b-445e-9ec9-a947d47378cb",
   "metadata": {},
   "outputs": [
    {
     "data": {
      "image/png": "[encoded data removed]",
      "text/plain": [
       "<Figure size 432x288 with 1 Axes>"
      ]
     },
     "metadata": {
      "needs_background": "light"
     },
     "output_type": "display_data"
    }
   ],
   "source": [
    "net1 = train_neural_network(X_sliding_windows, X_true, epoch_number=2000, lr=0.3)"
   ]
  },
  {
   "cell_type": "code",
   "execution_count": 28,
   "id": "e28584e0-83c3-4d32-9bd4-3412eefc42f9",
   "metadata": {},
   "outputs": [
    {
     "data": {
      "image/png": "[encoded data removed]",
      "text/plain": [
       "<Figure size 432x288 with 1 Axes>"
      ]
     },
     "metadata": {
      "needs_background": "light"
     },
     "output_type": "display_data"
    }
   ],
   "source": [
    "show_predict(net1, t_test, x_test, x)"
   ]
  },
  {
   "cell_type": "code",
   "execution_count": 29,
   "id": "f2476f84-74c2-4259-9194-34b5ad8d5593",
   "metadata": {},
   "outputs": [
    {
     "name": "stdout",
     "output_type": "stream",
     "text": [
      "b =  0.04454020483905796 W =  [-0.31906482 -0.13016097  0.0611718   0.25188468  0.43893878  0.61935349]\n"
     ]
    }
   ],
   "source": [
    "print('b = ', net1.b, 'W = ', net1.W)"
   ]
  },
  {
   "cell_type": "markdown",
   "id": "97becb7a-2fcf-4c7f-8a96-7250b38db81d",
   "metadata": {},
   "source": [
    "### Обучаем нейросеть. 4000 эпох"
   ]
  },
  {
   "cell_type": "code",
   "execution_count": 44,
   "id": "46b66df4-f95d-4432-92ac-7e7f857a7c51",
   "metadata": {},
   "outputs": [
    {
     "data": {
      "image/png": "[encoded data removed]",
      "text/plain": [
       "<Figure size 432x288 with 1 Axes>"
      ]
     },
     "metadata": {
      "needs_background": "light"
     },
     "output_type": "display_data"
    }
   ],
   "source": [
    "net2 = train_neural_network(X_sliding_windows, X_true, epoch_number=4000, lr=0.3)"
   ]
  },
  {
   "cell_type": "code",
   "execution_count": 45,
   "id": "da73ce53-6133-4ac8-a7cf-1b1984b2d51c",
   "metadata": {},
   "outputs": [
    {
     "data": {
      "image/png": "[encoded data removed]",
      "text/plain": [
       "<Figure size 432x288 with 1 Axes>"
      ]
     },
     "metadata": {
      "needs_background": "light"
     },
     "output_type": "display_data"
    }
   ],
   "source": [
    "show_predict(net2, t_test, x_test, x)"
   ]
  },
  {
   "cell_type": "code",
   "execution_count": 46,
   "id": "47cc927c-e9d0-44d4-804e-81fd5b2167a5",
   "metadata": {},
   "outputs": [
    {
     "name": "stdout",
     "output_type": "stream",
     "text": [
      "b =  0.0378450312737479 W =  [-0.33751336 -0.14109195  0.0578792   0.2562296   0.45079863  0.63848594]\n"
     ]
    }
   ],
   "source": [
    "print('b = ', net2.b, 'W = ', net2.W)"
   ]
  },
  {
   "cell_type": "code",
   "execution_count": null,
   "id": "f6b33a26-4110-40fd-a8d1-bd8b53ac450f",
   "metadata": {},
   "outputs": [],
   "source": []
  }
 ],
 "metadata": {
  "kernelspec": {
   "display_name": "Python 3",
   "language": "python",
   "name": "python3"
  },
  "language_info": {
   "codemirror_mode": {
    "name": "ipython",
    "version": 3
   },
   "file_extension": ".py",
   "mimetype": "text/x-python",
   "name": "python",
   "nbconvert_exporter": "python",
   "pygments_lexer": "ipython3",
   "version": "3.8.8"
  }
 },
 "nbformat": 4,
 "nbformat_minor": 5
}
