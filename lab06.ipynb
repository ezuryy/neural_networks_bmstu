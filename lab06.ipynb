{
 "cells": [
  {
   "cell_type": "markdown",
   "id": "a4f38ad7",
   "metadata": {},
   "source": [
    "# Лабораторная работа №6. Изучение алгоритма обратного распространения ошибки (метод Back Propagation)"
   ]
  },
  {
   "cell_type": "markdown",
   "id": "187d7476",
   "metadata": {},
   "source": [
    "### Импортируем необходимые модули"
   ]
  },
  {
   "cell_type": "code",
   "execution_count": 1,
   "id": "dc07fbf7",
   "metadata": {},
   "outputs": [],
   "source": [
    "import numpy as np\n",
    "import matplotlib.pyplot as plt \n",
    "from tqdm.auto import tqdm"
   ]
  },
  {
   "cell_type": "markdown",
   "id": "927d5ec3",
   "metadata": {},
   "source": [
    "###  Задаем вектора входов и выходов"
   ]
  },
  {
   "cell_type": "code",
   "execution_count": 2,
   "id": "0d907fb0",
   "metadata": {},
   "outputs": [],
   "source": [
    "X = np.array([4])\n",
    "Y = np.array([-2 / 10])"
   ]
  },
  {
   "cell_type": "code",
   "execution_count": 3,
   "id": "f309edb6",
   "metadata": {},
   "outputs": [],
   "source": [
    "X_train = X\n",
    "X_test = X"
   ]
  },
  {
   "cell_type": "markdown",
   "id": "9d699f20",
   "metadata": {},
   "source": [
    "### Создаем функции подсчета ошибки и среднеквадратичной ошибки"
   ]
  },
  {
   "cell_type": "code",
   "execution_count": 4,
   "id": "2e1eb2c9",
   "metadata": {},
   "outputs": [],
   "source": [
    "def loss_func(y_true, y_predicted):\n",
    "    return y_true - y_predicted"
   ]
  },
  {
   "cell_type": "code",
   "execution_count": 5,
   "id": "49a29ab5",
   "metadata": {},
   "outputs": [],
   "source": [
    "def MSE(y_true, y_predicted):\n",
    "    return np.square(np.sum((y_true - y_predicted) ** 2))"
   ]
  },
  {
   "cell_type": "markdown",
   "id": "0dcc33ce",
   "metadata": {},
   "source": [
    "### Создаем Dense слой"
   ]
  },
  {
   "cell_type": "code",
   "execution_count": 6,
   "id": "bcb33ea1",
   "metadata": {},
   "outputs": [],
   "source": [
    "class Dense:\n",
    "    def __init__(self, in_size, out_size, seed=0):\n",
    "        np.random.seed(seed)\n",
    "        # ЕСЛИ ИНИЦИАЛИЗИРОВАТЬ НУЛЯМИ, ТО СЕТЬ ОБУЧАТЬСЯ НЕ БУДЕТ. \n",
    "        # БУДЕТ ИЗМЕНЯТЬСЯ ТОЛЬКО ЕДИНИЧНОЕ СМЕЩЕНИЕ\n",
    "#         self.W = np.zeros(shape=(out_size, in_size))\n",
    "#         self.b = np.zeros(shape=out_size)\n",
    "        \n",
    "        self.W = np.random.normal(scale=0.1, size=(out_size, in_size))\n",
    "        self.b = np.random.normal(scale=0.1, size=(out_size))\n",
    "        \n",
    "    def forward(self, x):\n",
    "        self.x = x\n",
    "        self.net = np.dot(self.W, x.transpose()) + self.b\n",
    "        return self.net\n",
    "    \n",
    "    def backward(self, delta, lr=1):\n",
    "        self.dW = np.outer(delta, self.x)\n",
    "        self.db = delta\n",
    "        \n",
    "        self.next_delta = np.dot(delta, self.W) \n",
    "        \n",
    "        self.W = self.W + lr * self.dW\n",
    "        self.b = self.b + lr * self.db\n",
    "        \n",
    "        return self.next_delta"
   ]
  },
  {
   "cell_type": "markdown",
   "id": "83167532",
   "metadata": {},
   "source": [
    "### Задаем функцию активации"
   ]
  },
  {
   "cell_type": "code",
   "execution_count": 7,
   "id": "0e2170f2",
   "metadata": {},
   "outputs": [],
   "source": [
    "class ActivationFunction:\n",
    "    \n",
    "    def forward(self, x):\n",
    "        self.x = x\n",
    "        self.out = (1 - np.exp(-x)) / (1 + np.exp(-x))\n",
    "        return self.out\n",
    "    \n",
    "    def backward(self, delta, lr=1):\n",
    "        return delta * 0.5 * (1 - self.out ** 2)"
   ]
  },
  {
   "cell_type": "markdown",
   "id": "5413c314",
   "metadata": {},
   "source": [
    "### Создаем класс полносвязной нейросети"
   ]
  },
  {
   "cell_type": "code",
   "execution_count": 8,
   "id": "a9569f31",
   "metadata": {},
   "outputs": [],
   "source": [
    "class FullyConnectedNeuralNetwork:\n",
    "    \n",
    "    def __init__(self):\n",
    "        self.d1 = Dense(1, 2)\n",
    "        self.a1 = ActivationFunction()\n",
    "        self.d2 = Dense(2, 1)\n",
    "        self.a2 = ActivationFunction()\n",
    "        \n",
    "    def forward(self, x):\n",
    "        net = self.d1.forward(x)\n",
    "        net = self.a1.forward(net)\n",
    "        net = self.d2.forward(net)\n",
    "        net = self.a2.forward(net)\n",
    "        \n",
    "        self.net = net\n",
    "        return net\n",
    "    \n",
    "    def backward(self, dz, lr):\n",
    "        dz = self.a2.backward(dz, lr)\n",
    "        dz = self.d2.backward(dz, lr)\n",
    "        dz = self.a1.backward(dz, lr)\n",
    "        dz = self.d1.backward(dz, lr)\n",
    "        return dz\n",
    "    "
   ]
  },
  {
   "cell_type": "code",
   "execution_count": 9,
   "id": "a73b595f",
   "metadata": {},
   "outputs": [],
   "source": [
    "net = FullyConnectedNeuralNetwork()"
   ]
  },
  {
   "cell_type": "markdown",
   "id": "c7564b5a",
   "metadata": {},
   "source": [
    "### Обучаем модель"
   ]
  },
  {
   "cell_type": "code",
   "execution_count": 10,
   "id": "87f57ccb",
   "metadata": {
    "scrolled": false
   },
   "outputs": [
    {
     "data": {
      "application/vnd.jupyter.widget-view+json": {
       "model_id": "faff147edf584219b643317180de9255",
       "version_major": 2,
       "version_minor": 0
      },
      "text/plain": [
       "  0%|          | 0/100 [00:00<?, ?it/s]"
      ]
     },
     "metadata": {},
     "output_type": "display_data"
    },
    {
     "name": "stdout",
     "output_type": "stream",
     "text": [
      "epoch : 0\t predict : -0.003\t MSE : 0.00152\t error : -0.197\n",
      "epoch : 1\t predict : -0.060\t MSE : 0.000388\t error : -0.14\n",
      "epoch : 2\t predict : -0.099\t MSE : 0.000106\t error : -0.101\n",
      "epoch : 3\t predict : -0.126\t MSE : 3.02e-05\t error : -0.0742\n",
      "epoch : 4\t predict : -0.145\t MSE : 8.89e-06\t error : -0.0546\n",
      "epoch : 5\t predict : -0.160\t MSE : 2.67e-06\t error : -0.0404\n",
      "epoch : 6\t predict : -0.170\t MSE : 8.12e-07\t error : -0.03\n",
      "epoch : 7\t predict : -0.178\t MSE : 2.5e-07\t error : -0.0224\n",
      "epoch : 8\t predict : -0.183\t MSE : 7.73e-08\t error : -0.0167\n",
      "epoch : 9\t predict : -0.188\t MSE : 2.41e-08\t error : -0.0125\n",
      "epoch : 10\t predict : -0.191\t MSE : 7.54e-09\t error : -0.00932\n",
      "epoch : 11\t predict : -0.193\t MSE : 2.37e-09\t error : -0.00697\n",
      "epoch : 12\t predict : -0.195\t MSE : 7.44e-10\t error : -0.00522\n",
      "epoch : 13\t predict : -0.196\t MSE : 2.34e-10\t error : -0.00391\n",
      "epoch : 14\t predict : -0.197\t MSE : 7.4e-11\t error : -0.00293\n",
      "epoch : 15\t predict : -0.198\t MSE : 2.34e-11\t error : -0.0022\n",
      "epoch : 16\t predict : -0.198\t MSE : 7.38e-12\t error : -0.00165\n",
      "epoch : 17\t predict : -0.199\t MSE : 2.33e-12\t error : -0.00124\n",
      "epoch : 18\t predict : -0.199\t MSE : 7.38e-13\t error : -0.000927\n",
      "epoch : 19\t predict : -0.199\t MSE : 2.33e-13\t error : -0.000695\n",
      "epoch : 20\t predict : -0.199\t MSE : 7.39e-14\t error : -0.000521\n",
      "epoch : 21\t predict : -0.200\t MSE : 2.34e-14\t error : -0.000391\n",
      "epoch : 22\t predict : -0.200\t MSE : 7.4e-15\t error : -0.000293\n",
      "epoch : 23\t predict : -0.200\t MSE : 2.34e-15\t error : -0.00022\n",
      "epoch : 24\t predict : -0.200\t MSE : 7.42e-16\t error : -0.000165\n",
      "epoch : 25\t predict : -0.200\t MSE : 2.35e-16\t error : -0.000124\n",
      "epoch : 26\t predict : -0.200\t MSE : 7.44e-17\t error : -9.29e-05\n",
      "epoch : 27\t predict : -0.200\t MSE : 2.36e-17\t error : -6.97e-05\n",
      "epoch : 28\t predict : -0.200\t MSE : 7.46e-18\t error : -5.23e-05\n",
      "epoch : 29\t predict : -0.200\t MSE : 2.36e-18\t error : -3.92e-05\n",
      "epoch : 30\t predict : -0.200\t MSE : 7.48e-19\t error : -2.94e-05\n",
      "epoch : 31\t predict : -0.200\t MSE : 2.37e-19\t error : -2.21e-05\n",
      "epoch : 32\t predict : -0.200\t MSE : 7.5e-20\t error : -1.65e-05\n",
      "epoch : 33\t predict : -0.200\t MSE : 2.37e-20\t error : -1.24e-05\n",
      "epoch : 34\t predict : -0.200\t MSE : 7.52e-21\t error : -9.31e-06\n"
     ]
    }
   ],
   "source": [
    "lr = 1\n",
    "epsilon = 1e-20\n",
    "loss_train = []\n",
    "loss_test = []\n",
    "loss_mse = []\n",
    "\n",
    "for i in tqdm(range(100)):\n",
    "    y_predicted = net.forward(X_train)\n",
    "    delta = loss_func(Y, y_predicted)\n",
    "    net.backward(delta, lr)\n",
    "    loss_train.append(delta.item())\n",
    "    \n",
    "    y_predicted = net.forward(X_test)\n",
    "    delta = loss_func(Y, y_predicted)\n",
    "    loss_test.append(delta.item())\n",
    "    \n",
    "    mse = MSE(Y, y_predicted)\n",
    "    loss_mse.append(mse)\n",
    "    \n",
    "    print(f\"epoch : {i}\\t predict : {y_predicted[0]:.3f}\\t MSE : {mse:.3}\\t error : {delta[0]:.3}\")\n",
    "    if mse <= epsilon:\n",
    "        break\n",
    "    "
   ]
  },
  {
   "cell_type": "markdown",
   "id": "5ef2a29d",
   "metadata": {},
   "source": [
    "### Строим график ошибки ```y_true - y_predicted``` на обучающей выборке"
   ]
  },
  {
   "cell_type": "code",
   "execution_count": 11,
   "id": "0d61a545",
   "metadata": {},
   "outputs": [
    {
     "data": {
      "image/png": "[encoded data removed]",
      "text/plain": [
       "<Figure size 432x288 with 1 Axes>"
      ]
     },
     "metadata": {
      "needs_background": "light"
     },
     "output_type": "display_data"
    }
   ],
   "source": [
    "plt.plot(loss_train)\n",
    "plt.grid()\n",
    "plt.title('Dependence between error and epoch number on train')\n",
    "plt.xlabel('epoch')\n",
    "plt.ylabel('error')\n",
    "plt.show()"
   ]
  },
  {
   "cell_type": "markdown",
   "id": "367ef8c8",
   "metadata": {},
   "source": [
    "### Строим график ошибки ```y_true - y_predicted``` на тестовой выборке"
   ]
  },
  {
   "cell_type": "code",
   "execution_count": 12,
   "id": "841526cb",
   "metadata": {
    "scrolled": true
   },
   "outputs": [
    {
     "data": {
      "image/png": "[encoded data removed]",
      "text/plain": [
       "<Figure size 432x288 with 1 Axes>"
      ]
     },
     "metadata": {
      "needs_background": "light"
     },
     "output_type": "display_data"
    }
   ],
   "source": [
    "plt.plot(loss_test)\n",
    "plt.grid()\n",
    "plt.title('Dependence between error and epoch number on test')\n",
    "plt.xlabel('epoch')\n",
    "plt.ylabel('error')\n",
    "plt.show()"
   ]
  },
  {
   "cell_type": "markdown",
   "id": "e5a2da5d",
   "metadata": {},
   "source": [
    "### Строим график среднеквадратичной ошибки ```MSE```"
   ]
  },
  {
   "cell_type": "code",
   "execution_count": 13,
   "id": "f006b076",
   "metadata": {},
   "outputs": [
    {
     "data": {
      "image/png": "[encoded data removed]",
      "text/plain": [
       "<Figure size 432x288 with 1 Axes>"
      ]
     },
     "metadata": {
      "needs_background": "light"
     },
     "output_type": "display_data"
    }
   ],
   "source": [
    "plt.plot(loss_mse)\n",
    "plt.grid()\n",
    "plt.title('Dependence between MSE and epoch number')\n",
    "plt.xlabel('epoch')\n",
    "plt.ylabel('MSE')\n",
    "plt.show()"
   ]
  },
  {
   "cell_type": "markdown",
   "id": "a09955c6",
   "metadata": {},
   "source": [
    "### Обученная модель имеет следующие веса"
   ]
  },
  {
   "cell_type": "code",
   "execution_count": 14,
   "id": "9f660a34",
   "metadata": {
    "scrolled": true
   },
   "outputs": [
    {
     "data": {
      "text/plain": [
       "(array([[0.07908647],\n",
       "        [0.03745891]]),\n",
       " array([0.07354411, 0.22345012]))"
      ]
     },
     "execution_count": 14,
     "metadata": {},
     "output_type": "execute_result"
    }
   ],
   "source": [
    "net.d1.W, net.d1.b"
   ]
  },
  {
   "cell_type": "code",
   "execution_count": 15,
   "id": "a50de245",
   "metadata": {},
   "outputs": [
    {
     "data": {
      "text/plain": [
       "(array([[ 0.03368107, -0.04718612]]), array([-0.40322364]))"
      ]
     },
     "execution_count": 15,
     "metadata": {},
     "output_type": "execute_result"
    }
   ],
   "source": [
    "net.d2.W, net.d2.b"
   ]
  },
  {
   "cell_type": "code",
   "execution_count": null,
   "id": "c70511ec",
   "metadata": {},
   "outputs": [],
   "source": []
  }
 ],
 "metadata": {
  "kernelspec": {
   "display_name": "Python 3",
   "language": "python",
   "name": "python3"
  },
  "language_info": {
   "codemirror_mode": {
    "name": "ipython",
    "version": 3
   },
   "file_extension": ".py",
   "mimetype": "text/x-python",
   "name": "python",
   "nbconvert_exporter": "python",
   "pygments_lexer": "ipython3",
   "version": "3.8.8"
  }
 },
 "nbformat": 4,
 "nbformat_minor": 5
}
