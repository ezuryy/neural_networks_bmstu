{
 "cells": [
  {
   "cell_type": "markdown",
   "id": "34c316f5",
   "metadata": {},
   "source": [
    "# Лабораторная работа №4. Исследование нейронных сетей с радиальными базисными функциями (RBF) на примере моделирования булевых выражений"
   ]
  },
  {
   "cell_type": "markdown",
   "id": "740a841b",
   "metadata": {},
   "source": [
    "### Импортируем необходимые модули"
   ]
  },
  {
   "cell_type": "code",
   "execution_count": 1,
   "id": "4cc95bcc",
   "metadata": {},
   "outputs": [],
   "source": [
    "from math import exp\n",
    "import numpy as np\n",
    "import matplotlib.pyplot as plt\n",
    "from itertools import combinations"
   ]
  },
  {
   "cell_type": "code",
   "execution_count": 2,
   "id": "e84046df",
   "metadata": {},
   "outputs": [],
   "source": [
    "def simulated_boolean_function(x1, x2, x3, x4):\n",
    "    return int((not (x1 or x2)) or x3 or x4)"
   ]
  },
  {
   "cell_type": "code",
   "execution_count": 3,
   "id": "c42d0486",
   "metadata": {},
   "outputs": [],
   "source": [
    "X1 = [0, 0, 0, 0, 0, 0, 0, 0, 1, 1, 1, 1, 1, 1, 1, 1]\n",
    "X2 = [0, 0, 0, 0, 1, 1, 1, 1, 0, 0, 0, 0, 1, 1, 1, 1]\n",
    "X3 = [0, 0, 1, 1, 0, 0, 1, 1, 0, 0, 1, 1, 0, 0, 1, 1]\n",
    "X4 = [0, 1, 0, 1, 0, 1, 0, 1, 0, 1, 0, 1, 0, 1, 0, 1]"
   ]
  },
  {
   "cell_type": "code",
   "execution_count": 4,
   "id": "14f17ce4",
   "metadata": {},
   "outputs": [],
   "source": [
    "Y = np.array([simulated_boolean_function(X1[i], X2[i], X3[i], X4[i]) for i in range(16)])"
   ]
  },
  {
   "cell_type": "code",
   "execution_count": 5,
   "id": "a2a8c4b0",
   "metadata": {},
   "outputs": [
    {
     "data": {
      "text/plain": [
       "array([1, 1, 1, 1, 0, 1, 1, 1, 0, 1, 1, 1, 0, 1, 1, 1])"
      ]
     },
     "execution_count": 5,
     "metadata": {},
     "output_type": "execute_result"
    }
   ],
   "source": [
    "Y"
   ]
  },
  {
   "cell_type": "code",
   "execution_count": 6,
   "id": "d10bf786",
   "metadata": {},
   "outputs": [],
   "source": [
    "X_test = [[X1[i], X2[i], X3[i], X4[i]] for i in range(16)]"
   ]
  },
  {
   "cell_type": "code",
   "execution_count": 7,
   "id": "a0b83699",
   "metadata": {},
   "outputs": [],
   "source": [
    "C = np.array([[0, 1, 0, 0],\n",
    "             [1, 0, 0, 0],\n",
    "             [1, 1, 0, 0]])"
   ]
  },
  {
   "cell_type": "code",
   "execution_count": 8,
   "id": "2927aad9",
   "metadata": {},
   "outputs": [],
   "source": [
    "EPOCH_NUMBER = 5\n",
    "BIG_EPOCH_NUMBER = 120\n",
    "lr = 0.3"
   ]
  },
  {
   "cell_type": "code",
   "execution_count": 9,
   "id": "f3d3da7f",
   "metadata": {},
   "outputs": [],
   "source": [
    "def loss(y_true, y_predicted):\n",
    "    return y_true - y_predicted"
   ]
  },
  {
   "cell_type": "code",
   "execution_count": 10,
   "id": "aec5f6e5",
   "metadata": {},
   "outputs": [],
   "source": [
    "def get_predict(net, X_test):\n",
    "    y_predicted = []\n",
    "    y_predicted = [net.forward(x) for x in X_test]\n",
    "    return np.array(y_predicted)"
   ]
  },
  {
   "cell_type": "markdown",
   "id": "8a6e40c5",
   "metadata": {},
   "source": [
    "## Binary step"
   ]
  },
  {
   "cell_type": "code",
   "execution_count": 11,
   "id": "e95d44e7",
   "metadata": {},
   "outputs": [],
   "source": [
    "class RadialBasisFunctionNeuron:\n",
    "    def __init__(self, center):\n",
    "        self.center = center\n",
    "    \n",
    "    def get_phi(self, X):\n",
    "        summary = np.sum((X - self.center) ** 2)\n",
    "        return exp(-summary)"
   ]
  },
  {
   "cell_type": "code",
   "execution_count": 12,
   "id": "b1da400a",
   "metadata": {},
   "outputs": [],
   "source": [
    "class BinaryStepNet:\n",
    "    \n",
    "    def __init__(self, neurons_count, centers):\n",
    "        self.neurons_count = neurons_count\n",
    "        self.neuron = []\n",
    "        for i in range(self.neurons_count):\n",
    "            self.neuron.append(RadialBasisFunctionNeuron(centers[i]))\n",
    "        self.W = np.zeros(shape=neurons_count)\n",
    "        self.b = 0\n",
    "    \n",
    "    def forward(self, x):\n",
    "        self.phi = []\n",
    "        for i in range(self.neurons_count):\n",
    "            self.phi.append(self.neuron[i].get_phi(x))\n",
    "        self.phi = np.array(self.phi)\n",
    "        self.net = np.dot(self.W, self.phi) + self.b\n",
    "        self.binary_step = int(self.net >= 0)\n",
    "        return self.binary_step\n",
    "    \n",
    "    def backward(self, delta, lr=0.3):\n",
    "        self.dW = np.dot(lr * delta, self.phi)\n",
    "        self.db = lr * delta\n",
    "        self.W = self.W + self.dW\n",
    "        self.b = self.b + self.db"
   ]
  },
  {
   "cell_type": "markdown",
   "id": "5d8fe102",
   "metadata": {},
   "source": [
    "### Пробуем обучиться на всех данных"
   ]
  },
  {
   "cell_type": "code",
   "execution_count": 13,
   "id": "2e1b8945",
   "metadata": {},
   "outputs": [
    {
     "name": "stdout",
     "output_type": "stream",
     "text": [
      "\n",
      "\tEpoch  0\n",
      "W =  [-0.17470005 -0.27012776 -0.28856208] b =  0.3\n",
      "Y_pred =  [1 1 1 1 1 0 0 1 1 0 1 1 1 0 1 1]\n",
      "Y_true =  [1 1 1 1 0 1 1 1 0 1 1 1 0 1 1 1]\n",
      "E =  7.0\n",
      "\n",
      "\tEpoch  1\n",
      "W =  [-0.17470005 -0.27012776 -0.28856208] b =  0.3\n",
      "Y_pred =  [1 1 1 1 0 1 1 1 0 1 1 1 0 1 1 1]\n",
      "Y_true =  [1 1 1 1 0 1 1 1 0 1 1 1 0 1 1 1]\n",
      "E =  0.0\n"
     ]
    },
    {
     "data": {
      "image/png": "[encoded data removed]",
      "text/plain": [
       "<Figure size 432x288 with 1 Axes>"
      ]
     },
     "metadata": {
      "needs_background": "light"
     },
     "output_type": "display_data"
    }
   ],
   "source": [
    "net = BinaryStepNet(3, C)\n",
    "L_iter = []\n",
    "size_of_train = 16\n",
    "\n",
    "for epoch in range(EPOCH_NUMBER):\n",
    "    error = 0.\n",
    "    print(\"\\n\\tEpoch \", epoch)\n",
    "    Y_predicted = []\n",
    "    for i in range(size_of_train):\n",
    "        x = [X1[i], X2[i], X3[i], X4[i]]\n",
    "        y_true = Y[i]\n",
    "        y_predicted = net.forward(x)\n",
    "        delta = loss(y_true, y_predicted)\n",
    "        error += np.abs(delta)\n",
    "        net.backward(delta, lr)\n",
    "        Y_predicted.append(y_predicted)\n",
    "    L_iter.append(error)\n",
    "    print(\"W = \", net.W, 'b = ', net.b)\n",
    "    print(\"Y_pred = \", np.array(Y_predicted))\n",
    "    print(\"Y_true = \", Y)\n",
    "    print(\"E = \", error)\n",
    "    if (error == 0):\n",
    "        break\n",
    "\n",
    "fig, ax = plt.subplots()\n",
    "ax.plot(L_iter)\n",
    "ax.set_xlabel('epoch number')\n",
    "ax.set_ylabel('error')\n",
    "ax.set_title('Error(epoch)')\n",
    "plt.grid()\n",
    "plt.show()"
   ]
  },
  {
   "cell_type": "markdown",
   "id": "a9ec6dff",
   "metadata": {},
   "source": [
    "### Поиск наименьшей комбинации"
   ]
  },
  {
   "cell_type": "code",
   "execution_count": 14,
   "id": "b4482801",
   "metadata": {
    "scrolled": true
   },
   "outputs": [
    {
     "name": "stdout",
     "output_type": "stream",
     "text": [
      "Combination of size  15  found. Indexes :  (0, 1, 2, 3, 4, 5, 6, 7, 8, 9, 10, 11, 12, 13, 14)\n",
      "Combination of size  14  found. Indexes :  (0, 1, 2, 3, 4, 5, 6, 7, 8, 9, 10, 11, 12, 13)\n",
      "Combination of size  13  found. Indexes :  (0, 1, 2, 3, 4, 5, 6, 7, 8, 9, 10, 11, 12)\n",
      "Combination of size  12  found. Indexes :  (0, 1, 2, 3, 4, 5, 6, 7, 8, 9, 10, 11)\n",
      "Combination of size  11  found. Indexes :  (0, 1, 2, 3, 4, 5, 6, 7, 8, 9, 10)\n",
      "Combination of size  10  found. Indexes :  (0, 1, 2, 3, 4, 5, 6, 7, 8, 9)\n",
      "Combination of size  9  found. Indexes :  (0, 1, 2, 3, 4, 5, 6, 7, 8)\n",
      "Combination of size  8  found. Indexes :  (0, 1, 2, 3, 4, 5, 6, 8)\n",
      "Combination of size  7  found. Indexes :  (0, 1, 2, 3, 4, 5, 8)\n",
      "Combination of size  6  found. Indexes :  (0, 1, 2, 3, 4, 8)\n",
      "Combination of size  5  found. Indexes :  (0, 1, 2, 4, 8)\n",
      "Combination of size  4  found. Indexes :  (0, 1, 4, 8)\n",
      "Combination of size  3  found. Indexes :  (0, 4, 8)\n",
      "Combination of size  2  found. Indexes :  (1, 12)\n"
     ]
    }
   ],
   "source": [
    "for number_of_variables in range(15, 0, -1):\n",
    "    combs = tuple(combinations(range(16), number_of_variables))\n",
    "    for idxs in combs:\n",
    "        net = BinaryStepNet(3, C)        \n",
    "        L_iter = []\n",
    "        for epoch in range(BIG_EPOCH_NUMBER):\n",
    "            error_on_train = 0.\n",
    "            Y_predicted = []\n",
    "            for i in idxs:\n",
    "                x = [X1[i], X2[i], X3[i], X4[i]]\n",
    "                y_true = Y[i]\n",
    "                y_predicted = net.forward(x)\n",
    "                delta = loss(y_true, y_predicted)\n",
    "                error_on_train += abs(delta)\n",
    "                net.backward(delta, lr)\n",
    "                Y_predicted.append(y_predicted)\n",
    "            error_on_test = np.sum(loss(get_predict(net, X_test), Y))\n",
    "            L_iter.append(error_on_test)\n",
    "            if (error_on_test == 0):\n",
    "                break\n",
    "                \n",
    "        if L_iter[-1] == 0:\n",
    "            print(\"Combination of size \", number_of_variables, \" found. Indexes : \", idxs)\n",
    "            break"
   ]
  },
  {
   "cell_type": "markdown",
   "id": "bcd24cab",
   "metadata": {},
   "source": [
    "### Обучаемся на полученной наименьшей комбинации"
   ]
  },
  {
   "cell_type": "code",
   "execution_count": 15,
   "id": "3791c3c4",
   "metadata": {
    "scrolled": true
   },
   "outputs": [
    {
     "name": "stdout",
     "output_type": "stream",
     "text": [
      "\n",
      "\tEpoch  0\n",
      "W =  [-0.11036383 -0.11036383 -0.3       ]\n",
      "Y =  [0 0 0 0 0 0 0 0 0 0 0 0 0 0 0 0]\n",
      "E =  13\n",
      "\n",
      "\tEpoch  1\n",
      "W =  [-0.06976325 -0.06976325 -0.28506388]\n",
      "Y =  [0 0 0 0 0 0 0 0 0 0 0 0 0 0 0 0]\n",
      "E =  13\n",
      "\n",
      "\tEpoch  2\n",
      "W =  [-0.13952649 -0.13952649 -0.57012776]\n",
      "Y =  [0 0 0 0 0 0 0 0 0 0 0 0 0 0 0 0]\n",
      "E =  13\n",
      "\n",
      "\tEpoch  3\n",
      "W =  [-0.09892591 -0.09892591 -0.55519164]\n",
      "Y =  [1 1 1 1 0 1 1 1 0 1 1 1 0 1 1 1]\n",
      "E =  0\n",
      "\n",
      "final W =  [-0.09892591 -0.09892591 -0.55519164]\n"
     ]
    },
    {
     "data": {
      "image/png": "[encoded data removed]",
      "text/plain": [
       "<Figure size 432x288 with 1 Axes>"
      ]
     },
     "metadata": {
      "needs_background": "light"
     },
     "output_type": "display_data"
    }
   ],
   "source": [
    "net = BinaryStepNet(3, C)       \n",
    "L_iter = []\n",
    "idxs = [1, 12]\n",
    "\n",
    "for epoch in range(EPOCH_NUMBER):\n",
    "    error_on_train = 0.\n",
    "    print(\"\\n\\tEpoch \", epoch)\n",
    "    for i in idxs:\n",
    "        x = [X1[i], X2[i], X3[i], X4[i]]\n",
    "        y_true = Y[i]\n",
    "        y_predicted = net.forward(x)\n",
    "        delta = loss(y_true, y_predicted)\n",
    "        error_on_train += abs(delta)\n",
    "        net.backward(delta, lr)\n",
    "    Y_predicted = get_predict(net, X_test)\n",
    "    error_on_test = np.sum(np.abs(loss(Y_predicted, Y)))\n",
    "    L_iter.append(error_on_test)\n",
    "    print(\"W = \", net.W)\n",
    "    print(\"Y = \", Y_predicted)\n",
    "    print(\"E = \", error_on_test)\n",
    "    if (error_on_test == 0):\n",
    "        break\n",
    "\n",
    "print(\"\\nfinal W = \", net.W)\n",
    "fig, ax = plt.subplots()\n",
    "ax.plot(L_iter)\n",
    "ax.set_xlabel('epoch number')\n",
    "ax.set_ylabel('error')\n",
    "ax.set_title('Error(epoch)')\n",
    "plt.grid()\n",
    "plt.show()"
   ]
  },
  {
   "cell_type": "markdown",
   "id": "08ac9d36",
   "metadata": {},
   "source": [
    "## Softsign"
   ]
  },
  {
   "cell_type": "code",
   "execution_count": 16,
   "id": "3ea54c3a",
   "metadata": {},
   "outputs": [],
   "source": [
    "class SoftsignNet:\n",
    "    \n",
    "    def __init__(self, neurons_count, centers):\n",
    "        self.neurons_count = neurons_count\n",
    "        self.neuron = []\n",
    "        for i in range(self.neurons_count):\n",
    "            self.neuron.append(RadialBasisFunctionNeuron(centers[i]))\n",
    "        self.W = np.zeros(shape=neurons_count)\n",
    "        self.b = 0\n",
    "    \n",
    "    def forward(self, x, threshold=0.5):\n",
    "        self.phi = []\n",
    "        for i in range(self.neurons_count):\n",
    "            self.phi.append(self.neuron[i].get_phi(x))\n",
    "        self.phi = np.array(self.phi)\n",
    "        self.net = np.dot(self.W, self.phi) + self.b\n",
    "        self.softsign = 0.5 * (self.net / (1 + np.abs(self.net)) + 1)\n",
    "        return int(self.softsign > threshold)\n",
    "    \n",
    "    def backward(self, delta, lr=0.3):\n",
    "        self.dz = 0.5 / (1 + np.abs(self.softsign) ** 2)\n",
    "        self.dW = np.dot(lr * delta * self.dz, self.phi)\n",
    "        self.db = lr * delta * self.dz\n",
    "        self.W = self.W + self.dW\n",
    "        self.b = self.b + self.db"
   ]
  },
  {
   "cell_type": "markdown",
   "id": "f274fb39",
   "metadata": {},
   "source": [
    "### Пробуем обучиться на всех данных"
   ]
  },
  {
   "cell_type": "code",
   "execution_count": 17,
   "id": "0a5376a9",
   "metadata": {
    "scrolled": true
   },
   "outputs": [
    {
     "name": "stdout",
     "output_type": "stream",
     "text": [
      "\n",
      "\tEpoch  0\n",
      "W =  [-0.05972155 -0.06028219 -0.10568028] b =  0.14184180389848786\n",
      "Y_pred =  [0 1 1 1 1 0 1 1 1 0 1 1 1 0 1 1]\n",
      "Y_true =  [1 1 1 1 0 1 1 1 0 1 1 1 0 1 1 1]\n",
      "E =  7.0\n",
      "\n",
      "\tEpoch  1\n",
      "W =  [-0.14289879 -0.14437253 -0.15987951] b =  0.15016789788755974\n",
      "Y_pred =  [1 1 1 1 1 0 1 1 1 0 1 1 0 1 1 1]\n",
      "Y_true =  [1 1 1 1 0 1 1 1 0 1 1 1 0 1 1 1]\n",
      "E =  4.0\n",
      "\n",
      "\tEpoch  2\n",
      "W =  [-0.14289879 -0.14437253 -0.15987951] b =  0.15016789788755974\n",
      "Y_pred =  [1 1 1 1 0 1 1 1 0 1 1 1 0 1 1 1]\n",
      "Y_true =  [1 1 1 1 0 1 1 1 0 1 1 1 0 1 1 1]\n",
      "E =  0.0\n"
     ]
    },
    {
     "data": {
      "image/png": "[encoded data removed]",
      "text/plain": [
       "<Figure size 432x288 with 1 Axes>"
      ]
     },
     "metadata": {
      "needs_background": "light"
     },
     "output_type": "display_data"
    }
   ],
   "source": [
    "net = SoftsignNet(3, C)\n",
    "L_iter = []\n",
    "size_of_train = 16\n",
    "\n",
    "for epoch in range(EPOCH_NUMBER):\n",
    "    error = 0.\n",
    "    print(\"\\n\\tEpoch \", epoch)\n",
    "    Y_predicted = []\n",
    "    for i in range(size_of_train):\n",
    "        x = [X1[i], X2[i], X3[i], X4[i]]\n",
    "        y_true = Y[i]\n",
    "        y_predicted = net.forward(x)\n",
    "        delta = loss(y_true, y_predicted)\n",
    "        error += abs(delta)\n",
    "        net.backward(delta, lr)\n",
    "        Y_predicted.append(y_predicted)\n",
    "    L_iter.append(error)\n",
    "    print(\"W = \", net.W, 'b = ', net.b)\n",
    "    print(\"Y_pred = \", np.array(Y_predicted))\n",
    "    print(\"Y_true = \", Y)\n",
    "    print(\"E = \", error)\n",
    "    if (error == 0):\n",
    "        break\n",
    "\n",
    "fig, ax = plt.subplots()\n",
    "ax.plot(L_iter)\n",
    "ax.set_xlabel('epoch number')\n",
    "ax.set_ylabel('error')\n",
    "ax.set_title('Error(epoch)')\n",
    "plt.grid()\n",
    "plt.show()"
   ]
  },
  {
   "cell_type": "markdown",
   "id": "fc605ebb",
   "metadata": {},
   "source": [
    "### Поиск наименьшей комбинации"
   ]
  },
  {
   "cell_type": "code",
   "execution_count": 18,
   "id": "e899a523",
   "metadata": {
    "scrolled": true
   },
   "outputs": [
    {
     "name": "stdout",
     "output_type": "stream",
     "text": [
      "Combination of size  15  found. Indexes :  (0, 1, 2, 3, 4, 5, 6, 7, 8, 9, 10, 11, 12, 13, 14)\n",
      "Combination of size  14  found. Indexes :  (0, 1, 2, 3, 4, 5, 6, 7, 8, 9, 10, 11, 12, 13)\n",
      "Combination of size  13  found. Indexes :  (0, 1, 2, 3, 4, 5, 6, 7, 8, 9, 10, 11, 12)\n",
      "Combination of size  12  found. Indexes :  (0, 1, 2, 3, 4, 5, 6, 7, 8, 9, 10, 11)\n",
      "Combination of size  11  found. Indexes :  (0, 1, 2, 3, 4, 5, 6, 7, 8, 9, 10)\n",
      "Combination of size  10  found. Indexes :  (0, 1, 2, 3, 4, 5, 6, 7, 8, 9)\n",
      "Combination of size  9  found. Indexes :  (0, 1, 2, 3, 4, 5, 6, 7, 8)\n",
      "Combination of size  8  found. Indexes :  (0, 1, 2, 3, 4, 5, 6, 8)\n",
      "Combination of size  7  found. Indexes :  (0, 1, 2, 3, 4, 5, 8)\n",
      "Combination of size  6  found. Indexes :  (0, 1, 2, 3, 4, 8)\n",
      "Combination of size  5  found. Indexes :  (0, 1, 2, 4, 8)\n",
      "Combination of size  4  found. Indexes :  (0, 1, 4, 8)\n",
      "Combination of size  3  found. Indexes :  (0, 4, 8)\n",
      "Combination of size  2  found. Indexes :  (7, 12)\n"
     ]
    }
   ],
   "source": [
    "for number_of_variables in range(15, 0, -1):\n",
    "    combs = tuple(combinations(range(16), number_of_variables))\n",
    "    for idxs in combs:\n",
    "        net = SoftsignNet(3, C)      \n",
    "        L_iter = []\n",
    "        for epoch in range(BIG_EPOCH_NUMBER):\n",
    "            error_on_train = 0.\n",
    "            Y_predicted = []\n",
    "            for i in idxs:\n",
    "                x = [X1[i], X2[i], X3[i], X4[i]]\n",
    "                y_true = Y[i]\n",
    "                y_predicted = net.forward(x)\n",
    "                delta = loss(y_true, y_predicted)\n",
    "                error_on_train += abs(delta)\n",
    "                net.backward(delta, lr)\n",
    "                Y_predicted.append(y_predicted)\n",
    "            error_on_test = np.sum(loss(get_predict(net, X_test), Y))\n",
    "            L_iter.append(error_on_test)\n",
    "            if (error_on_test == 0):\n",
    "                break\n",
    "                \n",
    "        if L_iter[-1] == 0:\n",
    "            print(\"Combination of size \", number_of_variables, \" found. Indexes : \", idxs)\n",
    "            break"
   ]
  },
  {
   "cell_type": "markdown",
   "id": "f4023129",
   "metadata": {},
   "source": [
    "### Обучаемся на полученной наименьшей комбинации"
   ]
  },
  {
   "cell_type": "code",
   "execution_count": 19,
   "id": "a5919023",
   "metadata": {
    "scrolled": true
   },
   "outputs": [
    {
     "name": "stdout",
     "output_type": "stream",
     "text": [
      "\n",
      "\tEpoch  0\n",
      "W =  [-0.02581809 -0.03986045 -0.10835193]\n",
      "Y =  [0 0 0 1 0 0 0 0 0 0 0 0 0 0 0 0]\n",
      "E =  12\n",
      "\n",
      "\tEpoch  1\n",
      "W =  [-0.0535903  -0.08169707 -0.22207567]\n",
      "Y =  [0 0 0 0 0 0 0 0 0 0 0 0 0 0 0 0]\n",
      "E =  13\n",
      "\n",
      "\tEpoch  2\n",
      "W =  [-0.0372627  -0.07948737 -0.21606908]\n",
      "Y =  [1 1 1 1 0 1 1 1 0 1 1 1 0 1 1 1]\n",
      "E =  0\n",
      "\n",
      "final W =  [-0.0372627  -0.07948737 -0.21606908]\n"
     ]
    },
    {
     "data": {
      "image/png": "[encoded data removed]",
      "text/plain": [
       "<Figure size 432x288 with 1 Axes>"
      ]
     },
     "metadata": {
      "needs_background": "light"
     },
     "output_type": "display_data"
    }
   ],
   "source": [
    "net = SoftsignNet(3, C)       \n",
    "L_iter = []\n",
    "idxs = [7, 12]\n",
    "\n",
    "for epoch in range(BIG_EPOCH_NUMBER):\n",
    "    error_on_train = 0.\n",
    "    print(\"\\n\\tEpoch \", epoch)\n",
    "    for i in idxs:\n",
    "        x = [X1[i], X2[i], X3[i], X4[i]]\n",
    "        y_true = Y[i]\n",
    "        y_predicted = net.forward(x)\n",
    "        delta = loss(y_true, y_predicted)\n",
    "        error_on_train += abs(delta)\n",
    "        net.backward(delta, lr)\n",
    "    Y_predicted = get_predict(net, X_test)\n",
    "    error_on_test = np.sum(np.abs(loss(Y_predicted, Y)))\n",
    "    L_iter.append(error_on_test)\n",
    "    print(\"W = \", net.W)\n",
    "    print(\"Y = \", Y_predicted)\n",
    "    print(\"E = \", error_on_test)\n",
    "    if (error_on_test == 0):\n",
    "        break\n",
    "\n",
    "print(\"\\nfinal W = \", net.W)\n",
    "fig, ax = plt.subplots()\n",
    "ax.plot(L_iter)\n",
    "ax.set_xlabel('epoch number')\n",
    "ax.set_ylabel('error')\n",
    "ax.set_title('Error(epoch)')\n",
    "plt.grid()\n",
    "plt.show()"
   ]
  },
  {
   "cell_type": "code",
   "execution_count": null,
   "id": "e33a59d2",
   "metadata": {},
   "outputs": [],
   "source": []
  }
 ],
 "metadata": {
  "kernelspec": {
   "display_name": "Python 3",
   "language": "python",
   "name": "python3"
  },
  "language_info": {
   "codemirror_mode": {
    "name": "ipython",
    "version": 3
   },
   "file_extension": ".py",
   "mimetype": "text/x-python",
   "name": "python",
   "nbconvert_exporter": "python",
   "pygments_lexer": "ipython3",
   "version": "3.8.8"
  }
 },
 "nbformat": 4,
 "nbformat_minor": 5
}
